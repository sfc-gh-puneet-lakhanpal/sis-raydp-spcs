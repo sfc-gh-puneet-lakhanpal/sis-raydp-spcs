{
 "cells": [
  {
   "cell_type": "markdown",
   "metadata": {
    "vscode": {
     "languageId": "raw"
    }
   },
   "source": [
    "# RayDP - Distributed Spark MLLib based Model Training on Snowpark Container Services\n",
    "\n",
    "This notebook demonstrates how to use RayDP to perform distributed Spark MLLIb based model training on Ray cluster in Snowpark Container Services."
   ]
  },
  {
   "cell_type": "markdown",
   "metadata": {
    "vscode": {
     "languageId": "raw"
    }
   },
   "source": [
    "## Setup and Imports"
   ]
  },
  {
   "cell_type": "code",
   "execution_count": 1,
   "metadata": {},
   "outputs": [
    {
     "name": "stderr",
     "output_type": "stream",
     "text": [
      "/usr/local/lib/python3.10/dist-packages/tqdm/auto.py:21: TqdmWarning: IProgress not found. Please update jupyter and ipywidgets. See https://ipywidgets.readthedocs.io/en/stable/user_install.html\n",
      "  from .autonotebook import tqdm as notebook_tqdm\n",
      "2025-06-28 01:49:17,241\tINFO util.py:154 -- Missing packages: ['ipywidgets']. Run `pip install -U ipywidgets`, then restart the notebook server for rich notebook output.\n",
      "2025-06-28 01:49:17,802\tINFO util.py:154 -- Missing packages: ['ipywidgets']. Run `pip install -U ipywidgets`, then restart the notebook server for rich notebook output.\n"
     ]
    },
    {
     "name": "stdout",
     "output_type": "stream",
     "text": [
      "Ray version: 2.42.0\n",
      "RayDP version: 1.6.2\n"
     ]
    }
   ],
   "source": [
    "import ray\n",
    "import raydp\n",
    "import pprint\n",
    "import warnings\n",
    "import logging    \n",
    "import time\n",
    "import numpy as np\n",
    "import socket\n",
    "from pyspark.sql import SparkSession\n",
    "from pyspark.sql.functions import col, rand, when, round as spark_round\n",
    "from pyspark.sql.types import StructType, StructField, DoubleType, IntegerType\n",
    "from pyspark.ml.feature import VectorAssembler, StandardScaler\n",
    "from pyspark.ml.classification import RandomForestClassifier, LogisticRegression\n",
    "from pyspark.ml.regression import RandomForestRegressor, LinearRegression\n",
    "from pyspark.ml.evaluation import BinaryClassificationEvaluator, MulticlassClassificationEvaluator, RegressionEvaluator\n",
    "from pyspark.ml.tuning import CrossValidator, ParamGridBuilder\n",
    "from pyspark.ml import Pipeline\n",
    "\n",
    "print(f\"Ray version: {ray.__version__}\")\n",
    "print(f\"RayDP version: {raydp.__version__}\")"
   ]
  },
  {
   "cell_type": "code",
   "execution_count": 2,
   "metadata": {},
   "outputs": [
    {
     "name": "stderr",
     "output_type": "stream",
     "text": [
      "2025-06-28 01:49:18,000\tINFO worker.py:1654 -- Connecting to existing Ray cluster at address: 10.244.186.11:6379...\n",
      "2025-06-28 01:49:18,011\tINFO worker.py:1832 -- Connected to Ray cluster. View the dashboard at \u001b[1m\u001b[32m10.244.186.11:8265 \u001b[39m\u001b[22m\n",
      "[2025-06-28 01:49:18,014 I 11924 11924] logging.cc:293: Set ray log level from environment variable RAY_BACKEND_LOG_LEVEL to -1\n"
     ]
    },
    {
     "data": {
      "text/html": [
       "<div class=\"lm-Widget p-Widget lm-Panel p-Panel jp-Cell-outputWrapper\">\n",
       "    <div style=\"margin-left: 50px;display: flex;flex-direction: row;align-items: center\">\n",
       "        <div class=\"jp-RenderedHTMLCommon\" style=\"display: flex; flex-direction: row;\">\n",
       "  <svg viewBox=\"0 0 567 224\" fill=\"none\" xmlns=\"http://www.w3.org/2000/svg\" style=\"height: 3em;\">\n",
       "    <g clip-path=\"url(#clip0_4338_178347)\">\n",
       "        <path d=\"M341.29 165.561H355.29L330.13 129.051C345.63 123.991 354.21 112.051 354.21 94.2307C354.21 71.3707 338.72 58.1807 311.88 58.1807H271V165.561H283.27V131.661H311.8C314.25 131.661 316.71 131.501 319.01 131.351L341.25 165.561H341.29ZM283.29 119.851V70.0007H311.82C331.3 70.0007 342.34 78.2907 342.34 94.5507C342.34 111.271 331.34 119.861 311.82 119.861L283.29 119.851ZM451.4 138.411L463.4 165.561H476.74L428.74 58.1807H416L367.83 165.561H380.83L392.83 138.411H451.4ZM446.19 126.601H398L422 72.1407L446.24 126.601H446.19ZM526.11 128.741L566.91 58.1807H554.35L519.99 114.181L485.17 58.1807H472.44L514.01 129.181V165.541H526.13V128.741H526.11Z\" fill=\"var(--jp-ui-font-color0)\"/>\n",
       "        <path d=\"M82.35 104.44C84.0187 97.8827 87.8248 92.0678 93.1671 87.9146C98.5094 83.7614 105.083 81.5067 111.85 81.5067C118.617 81.5067 125.191 83.7614 130.533 87.9146C135.875 92.0678 139.681 97.8827 141.35 104.44H163.75C164.476 101.562 165.622 98.8057 167.15 96.2605L127.45 56.5605C121.071 60.3522 113.526 61.6823 106.235 60.3005C98.9443 58.9187 92.4094 54.9203 87.8602 49.0574C83.3109 43.1946 81.0609 35.8714 81.5332 28.4656C82.0056 21.0599 85.1679 14.0819 90.4252 8.8446C95.6824 3.60726 102.672 0.471508 110.08 0.0272655C117.487 -0.416977 124.802 1.86091 130.647 6.4324C136.493 11.0039 140.467 17.5539 141.821 24.8501C143.175 32.1463 141.816 39.6859 138 46.0505L177.69 85.7505C182.31 82.9877 187.58 81.4995 192.962 81.4375C198.345 81.3755 203.648 82.742 208.33 85.3976C213.012 88.0532 216.907 91.9029 219.616 96.5544C222.326 101.206 223.753 106.492 223.753 111.875C223.753 117.258 222.326 122.545 219.616 127.197C216.907 131.848 213.012 135.698 208.33 138.353C203.648 141.009 198.345 142.375 192.962 142.313C187.58 142.251 182.31 140.763 177.69 138L138 177.7C141.808 184.071 143.155 191.614 141.79 198.91C140.424 206.205 136.44 212.75 130.585 217.313C124.731 221.875 117.412 224.141 110.004 223.683C102.596 223.226 95.6103 220.077 90.3621 214.828C85.1139 209.58 81.9647 202.595 81.5072 195.187C81.0497 187.779 83.3154 180.459 87.878 174.605C92.4405 168.751 98.9853 164.766 106.281 163.401C113.576 162.035 121.119 163.383 127.49 167.19L167.19 127.49C165.664 124.941 164.518 122.182 163.79 119.3H141.39C139.721 125.858 135.915 131.673 130.573 135.826C125.231 139.98 118.657 142.234 111.89 142.234C105.123 142.234 98.5494 139.98 93.2071 135.826C87.8648 131.673 84.0587 125.858 82.39 119.3H60C58.1878 126.495 53.8086 132.78 47.6863 136.971C41.5641 141.163 34.1211 142.972 26.7579 142.059C19.3947 141.146 12.6191 137.574 7.70605 132.014C2.79302 126.454 0.0813599 119.29 0.0813599 111.87C0.0813599 104.451 2.79302 97.2871 7.70605 91.7272C12.6191 86.1673 19.3947 82.5947 26.7579 81.6817C34.1211 80.7686 41.5641 82.5781 47.6863 86.7696C53.8086 90.9611 58.1878 97.2456 60 104.44H82.35ZM100.86 204.32C103.407 206.868 106.759 208.453 110.345 208.806C113.93 209.159 117.527 208.258 120.522 206.256C123.517 204.254 125.725 201.276 126.771 197.828C127.816 194.38 127.633 190.677 126.253 187.349C124.874 184.021 122.383 181.274 119.205 179.577C116.027 177.88 112.359 177.337 108.826 178.042C105.293 178.746 102.113 180.654 99.8291 183.44C97.5451 186.226 96.2979 189.718 96.3 193.32C96.2985 195.364 96.7006 197.388 97.4831 199.275C98.2656 201.163 99.4132 202.877 100.86 204.32ZM204.32 122.88C206.868 120.333 208.453 116.981 208.806 113.396C209.159 109.811 208.258 106.214 206.256 103.219C204.254 100.223 201.275 98.0151 197.827 96.97C194.38 95.9249 190.676 96.1077 187.348 97.4873C184.02 98.8669 181.274 101.358 179.577 104.536C177.879 107.714 177.337 111.382 178.041 114.915C178.746 118.448 180.653 121.627 183.439 123.911C186.226 126.195 189.717 127.443 193.32 127.44C195.364 127.443 197.388 127.042 199.275 126.259C201.163 125.476 202.878 124.328 204.32 122.88ZM122.88 19.4205C120.333 16.8729 116.981 15.2876 113.395 14.9347C109.81 14.5817 106.213 15.483 103.218 17.4849C100.223 19.4868 98.0146 22.4654 96.9696 25.9131C95.9245 29.3608 96.1073 33.0642 97.4869 36.3922C98.8665 39.7202 101.358 42.4668 104.535 44.1639C107.713 45.861 111.381 46.4036 114.914 45.6992C118.447 44.9949 121.627 43.0871 123.911 40.301C126.195 37.515 127.442 34.0231 127.44 30.4205C127.44 28.3772 127.038 26.3539 126.255 24.4664C125.473 22.5788 124.326 20.8642 122.88 19.4205ZM19.42 100.86C16.8725 103.408 15.2872 106.76 14.9342 110.345C14.5813 113.93 15.4826 117.527 17.4844 120.522C19.4863 123.518 22.4649 125.726 25.9127 126.771C29.3604 127.816 33.0638 127.633 36.3918 126.254C39.7198 124.874 42.4664 122.383 44.1635 119.205C45.8606 116.027 46.4032 112.359 45.6988 108.826C44.9944 105.293 43.0866 102.114 40.3006 99.8296C37.5145 97.5455 34.0227 96.2983 30.42 96.3005C26.2938 96.3018 22.337 97.9421 19.42 100.86ZM100.86 100.86C98.3125 103.408 96.7272 106.76 96.3742 110.345C96.0213 113.93 96.9226 117.527 98.9244 120.522C100.926 123.518 103.905 125.726 107.353 126.771C110.8 127.816 114.504 127.633 117.832 126.254C121.16 124.874 123.906 122.383 125.604 119.205C127.301 116.027 127.843 112.359 127.139 108.826C126.434 105.293 124.527 102.114 121.741 99.8296C118.955 97.5455 115.463 96.2983 111.86 96.3005C109.817 96.299 107.793 96.701 105.905 97.4835C104.018 98.2661 102.303 99.4136 100.86 100.86Z\" fill=\"#00AEEF\"/>\n",
       "    </g>\n",
       "    <defs>\n",
       "        <clipPath id=\"clip0_4338_178347\">\n",
       "            <rect width=\"566.93\" height=\"223.75\" fill=\"white\"/>\n",
       "        </clipPath>\n",
       "    </defs>\n",
       "  </svg>\n",
       "</div>\n",
       "\n",
       "        <table class=\"jp-RenderedHTMLCommon\" style=\"border-collapse: collapse;color: var(--jp-ui-font-color1);font-size: var(--jp-ui-font-size1);\">\n",
       "    <tr>\n",
       "        <td style=\"text-align: left\"><b>Python version:</b></td>\n",
       "        <td style=\"text-align: left\"><b>3.10.12</b></td>\n",
       "    </tr>\n",
       "    <tr>\n",
       "        <td style=\"text-align: left\"><b>Ray version:</b></td>\n",
       "        <td style=\"text-align: left\"><b>2.42.0</b></td>\n",
       "    </tr>\n",
       "    <tr>\n",
       "    <td style=\"text-align: left\"><b>Dashboard:</b></td>\n",
       "    <td style=\"text-align: left\"><b><a href=\"http://10.244.186.11:8265\" target=\"_blank\">http://10.244.186.11:8265</a></b></td>\n",
       "</tr>\n",
       "\n",
       "</table>\n",
       "\n",
       "    </div>\n",
       "</div>\n"
      ],
      "text/plain": [
       "RayContext(dashboard_url='10.244.186.11:8265', python_version='3.10.12', ray_version='2.42.0', ray_commit='637116a090c052d061af5ba3bef8a467c8c3fc25')"
      ]
     },
     "execution_count": 2,
     "metadata": {},
     "output_type": "execute_result"
    },
    {
     "name": "stderr",
     "output_type": "stream",
     "text": [
      "\u001b[33m(raylet, ip=10.244.187.11)\u001b[0m [2025-06-28 01:50:20,575 I 6048 6048] logging.cc:293: Set ray log level from environment variable RAY_BACKEND_LOG_LEVEL to -1\n",
      "\u001b[36m(RayDPSparkMaster pid=6048, ip=10.244.187.11)\u001b[0m [2025-06-28 01:50:23,047 I 6086 6113] gcs_client.cc:98: GcsClient has no Cluster ID set, and won't fetch from GCS.\n",
      "\u001b[36m(RayDPSparkMaster pid=6048, ip=10.244.187.11)\u001b[0m [2025-06-28 01:50:23,230 I 6086 6113] gcs_client.cc:98: GcsClient has no Cluster ID set, and won't fetch from GCS.\n",
      "\u001b[33m(raylet, ip=10.244.187.11)\u001b[0m [2025-06-28 01:50:29,926 I 6155 6159] gcs_client.cc:98: GcsClient has no Cluster ID set, and won't fetch from GCS.\n",
      "\u001b[33m(raylet, ip=10.244.187.11)\u001b[0m [2025-06-28 01:50:29,926 I 6155 6159] logging.cc:293: Set ray log level from environment variable RAY_BACKEND_LOG_LEVEL to -1\n",
      "\u001b[33m(raylet)\u001b[0m [2025-06-28 01:50:49,187 I 12336 12336] logging.cc:293: Set ray log level from environment variable RAY_BACKEND_LOG_LEVEL to -1\n"
     ]
    }
   ],
   "source": [
    "ray.init(address=\"auto\", ignore_reinit_error=True)"
   ]
  },
  {
   "cell_type": "code",
   "execution_count": 3,
   "metadata": {},
   "outputs": [],
   "source": [
    "cluster_resources = ray.cluster_resources()\n",
    "nodes = ray.nodes()"
   ]
  },
  {
   "cell_type": "code",
   "execution_count": 4,
   "metadata": {},
   "outputs": [
    {
     "data": {
      "text/plain": [
       "[{'NodeID': 'd76155411c1a927b83d1faf9b743fe15960f4be2f97024d1e2856765',\n",
       "  'Alive': True,\n",
       "  'NodeManagerAddress': '10.244.188.11',\n",
       "  'NodeManagerHostname': 'statefulset-1',\n",
       "  'NodeManagerPort': 8077,\n",
       "  'ObjectManagerPort': 8076,\n",
       "  'ObjectStoreSocketName': '/raylogs/ray/session_2025-06-28_00-08-44_284474_26/sockets/plasma_store',\n",
       "  'RayletSocketName': '/raylogs/ray/session_2025-06-28_00-08-44_284474_26/sockets/raylet',\n",
       "  'MetricsExportPort': 8082,\n",
       "  'NodeName': '10.244.188.11',\n",
       "  'RuntimeEnvAgentPort': 60018,\n",
       "  'DeathReason': 0,\n",
       "  'DeathReasonMessage': '',\n",
       "  'alive': True,\n",
       "  'Resources': {'CPU': 6.0,\n",
       "   'GPU': 1.0,\n",
       "   'node:10.244.188.11': 1.0,\n",
       "   'accelerator_type:A10G': 1.0,\n",
       "   'object_store_memory': 8658839961.0,\n",
       "   'memory': 20203959911.0},\n",
       "  'Labels': {'ray.io/node_id': 'd76155411c1a927b83d1faf9b743fe15960f4be2f97024d1e2856765'}},\n",
       " {'NodeID': 'd527cbecd7d4e1789f6551a13cae166c27fb8084f943a827664b7c8b',\n",
       "  'Alive': True,\n",
       "  'NodeManagerAddress': '10.244.186.11',\n",
       "  'NodeManagerHostname': 'statefulset-0',\n",
       "  'NodeManagerPort': 8077,\n",
       "  'ObjectManagerPort': 8076,\n",
       "  'ObjectStoreSocketName': '/raylogs/ray/session_2025-06-28_00-08-44_284474_26/sockets/plasma_store',\n",
       "  'RayletSocketName': '/raylogs/ray/session_2025-06-28_00-08-44_284474_26/sockets/raylet',\n",
       "  'MetricsExportPort': 8082,\n",
       "  'NodeName': '10.244.186.11',\n",
       "  'RuntimeEnvAgentPort': 61684,\n",
       "  'DeathReason': 0,\n",
       "  'DeathReasonMessage': '',\n",
       "  'alive': True,\n",
       "  'Resources': {'node:__internal_head__': 1.0,\n",
       "   'CPU': 6.0,\n",
       "   'GPU': 1.0,\n",
       "   'accelerator_type:A10G': 1.0,\n",
       "   'object_store_memory': 8572531507.0,\n",
       "   'node:10.244.186.11': 1.0,\n",
       "   'memory': 17145063015.0},\n",
       "  'Labels': {'ray.io/node_id': 'd527cbecd7d4e1789f6551a13cae166c27fb8084f943a827664b7c8b'}},\n",
       " {'NodeID': '0e6b32a0c824e8111dc093c62ceab426eb27cb47dbd8802f30918ca6',\n",
       "  'Alive': True,\n",
       "  'NodeManagerAddress': '10.244.187.11',\n",
       "  'NodeManagerHostname': 'statefulset-0',\n",
       "  'NodeManagerPort': 8077,\n",
       "  'ObjectManagerPort': 8076,\n",
       "  'ObjectStoreSocketName': '/raylogs/ray/session_2025-06-28_00-08-44_284474_26/sockets/plasma_store',\n",
       "  'RayletSocketName': '/raylogs/ray/session_2025-06-28_00-08-44_284474_26/sockets/raylet',\n",
       "  'MetricsExportPort': 8082,\n",
       "  'NodeName': '10.244.187.11',\n",
       "  'RuntimeEnvAgentPort': 58203,\n",
       "  'DeathReason': 0,\n",
       "  'DeathReasonMessage': '',\n",
       "  'alive': True,\n",
       "  'Resources': {'CPU': 6.0,\n",
       "   'GPU': 1.0,\n",
       "   'accelerator_type:A10G': 1.0,\n",
       "   'object_store_memory': 8658742886.0,\n",
       "   'node:10.244.187.11': 1.0,\n",
       "   'memory': 20203733402.0},\n",
       "  'Labels': {'ray.io/node_id': '0e6b32a0c824e8111dc093c62ceab426eb27cb47dbd8802f30918ca6'}},\n",
       " {'NodeID': 'ea6f1dfb0e81c1c5796e7509142e1d5476353b7fd4a08738b21bb502',\n",
       "  'Alive': True,\n",
       "  'NodeManagerAddress': '10.244.189.11',\n",
       "  'NodeManagerHostname': 'statefulset-2',\n",
       "  'NodeManagerPort': 8077,\n",
       "  'ObjectManagerPort': 8076,\n",
       "  'ObjectStoreSocketName': '/raylogs/ray/session_2025-06-28_00-08-44_284474_26/sockets/plasma_store',\n",
       "  'RayletSocketName': '/raylogs/ray/session_2025-06-28_00-08-44_284474_26/sockets/raylet',\n",
       "  'MetricsExportPort': 8082,\n",
       "  'NodeName': '10.244.189.11',\n",
       "  'RuntimeEnvAgentPort': 48964,\n",
       "  'DeathReason': 0,\n",
       "  'DeathReasonMessage': '',\n",
       "  'alive': True,\n",
       "  'Resources': {'CPU': 6.0,\n",
       "   'node:10.244.189.11': 1.0,\n",
       "   'GPU': 1.0,\n",
       "   'accelerator_type:A10G': 1.0,\n",
       "   'object_store_memory': 8658803097.0,\n",
       "   'memory': 20203873895.0},\n",
       "  'Labels': {'ray.io/node_id': 'ea6f1dfb0e81c1c5796e7509142e1d5476353b7fd4a08738b21bb502'}}]"
      ]
     },
     "execution_count": 4,
     "metadata": {},
     "output_type": "execute_result"
    }
   ],
   "source": [
    "nodes"
   ]
  },
  {
   "cell_type": "code",
   "execution_count": 5,
   "metadata": {},
   "outputs": [
    {
     "name": "stdout",
     "output_type": "stream",
     "text": [
      "  Cluster Information:\n",
      "   Node 1: {'CPU': 6.0, 'GPU': 1.0, 'node:10.244.188.11': 1.0, 'accelerator_type:A10G': 1.0, 'object_store_memory': 8658839961.0, 'memory': 20203959911.0}\n",
      "   Node 2: {'node:__internal_head__': 1.0, 'CPU': 6.0, 'GPU': 1.0, 'accelerator_type:A10G': 1.0, 'object_store_memory': 8572531507.0, 'node:10.244.186.11': 1.0, 'memory': 17145063015.0}\n",
      "   Node 3: {'CPU': 6.0, 'GPU': 1.0, 'accelerator_type:A10G': 1.0, 'object_store_memory': 8658742886.0, 'node:10.244.187.11': 1.0, 'memory': 20203733402.0}\n",
      "   Node 4: {'CPU': 6.0, 'node:10.244.189.11': 1.0, 'GPU': 1.0, 'accelerator_type:A10G': 1.0, 'object_store_memory': 8658803097.0, 'memory': 20203873895.0}\n",
      "\n"
     ]
    }
   ],
   "source": [
    "print(\"  Cluster Information:\")\n",
    "for i, node in enumerate(nodes):\n",
    "    node_resources = node.get('Resources', {})\n",
    "    print(f\"   Node {i+1}: {node_resources}\")\n",
    "print()"
   ]
  },
  {
   "cell_type": "markdown",
   "metadata": {},
   "source": [
    "## Get optimal spark config"
   ]
  },
  {
   "cell_type": "code",
   "execution_count": 6,
   "metadata": {},
   "outputs": [],
   "source": [
    "def configure_logging():\n",
    "    logging.getLogger(\"py4j\").setLevel(logging.ERROR)\n",
    "    logging.getLogger(\"pyspark\").setLevel(logging.ERROR)\n",
    "    warnings.filterwarnings(\"ignore\", category=FutureWarning)\n",
    "    warnings.filterwarnings(\"ignore\", category=UserWarning)\n",
    "    print(\"Logging configured to suppress common Spark warnings\")\n",
    "def get_spark_configs_with_warning_suppression():\n",
    "    \"\"\"\n",
    "    Get Spark configurations that suppress common warnings\n",
    "    \"\"\"\n",
    "    return {\n",
    "        \"spark.sql.adaptive.enabled\": \"true\",\n",
    "        \"spark.sql.adaptive.coalescePartitions.enabled\": \"true\",\n",
    "        \"spark.serializer\": \"org.apache.spark.serializer.KryoSerializer\",\n",
    "        \"spark.sql.adaptive.advisoryPartitionSizeInBytes\": \"256MB\",\n",
    "        \"spark.ml.tree.maxMemoryInMB\": \"2048\",\n",
    "        \"spark.task.maxFailures\": \"3\",\n",
    "        \"spark.sql.execution.arrow.pyspark.enabled\": \"true\",\n",
    "        \"spark.sql.adaptive.maxRecordsPerPartition\": \"50000\",\n",
    "        \"spark.rdd.compress\": \"true\",\n",
    "        \"spark.io.compression.codec\": \"snappy\",\n",
    "        \"spark.sql.autoBroadcastJoinThreshold\": \"50MB\",\n",
    "        \"spark.broadcast.blockSize\": \"8m\",\n",
    "        \"spark.sql.execution.arrow.maxRecordsPerBatch\": \"20000\",        \n",
    "        \"spark.sql.shuffle.partitions\": \"200\",\n",
    "        \"spark.default.parallelism\": \"200\",\n",
    "        \"spark.network.timeout\": \"800s\",\n",
    "        \"spark.executor.heartbeatInterval\": \"60s\"\n",
    "    }"
   ]
  },
  {
   "cell_type": "code",
   "execution_count": 7,
   "metadata": {},
   "outputs": [],
   "source": [
    "def get_optimal_spark_config(cluster_resources):\n",
    "    \"\"\"\n",
    "    Calculate optimal Spark configuration for the cluster\n",
    "    \"\"\"\n",
    "    total_cpus = int(cluster_resources.get('CPU', 24))\n",
    "    total_memory_gb = cluster_resources.get('memory', 72 * 1024**3) / (1024**3)\n",
    "    num_nodes = len(ray.nodes())\n",
    "    print(f\" Cluster Analysis:\")\n",
    "    print(f\"   Nodes: {num_nodes}\")\n",
    "    print(f\"   Total CPUs: {total_cpus}\")\n",
    "    print(f\"   Total Memory: {total_memory_gb:.1f} GB\")\n",
    "    # Leave 1 CPU per node for Ray head/driver and OS\n",
    "    available_cpus = max(1, total_cpus - num_nodes)\n",
    "    # Target 1 executor per node for good distribution\n",
    "    num_executors = min(num_nodes, 4)\n",
    "    executor_cores = max(1, available_cpus // num_executors)\n",
    "    # Conservative memory allocation (leave 4GB per node for OS/Ray)\n",
    "    available_memory = max(8, total_memory_gb - (num_nodes * 4))\n",
    "    executor_memory_gb = max(2, int(available_memory // (num_executors + 1)))  # +1 for driver\n",
    "    driver_memory_gb = min(4, executor_memory_gb)\n",
    "    config = {\n",
    "        'num_executors': num_executors,\n",
    "        'executor_cores': executor_cores,\n",
    "        'executor_memory': f\"{executor_memory_gb}g\",\n",
    "        'driver_memory': f\"{driver_memory_gb}g\"\n",
    "    }\n",
    "    print(f\" Optimal Spark Configuration:\")\n",
    "    print(f\"   Executors: {config['num_executors']}\")\n",
    "    print(f\"   Executor cores: {config['executor_cores']}\")\n",
    "    print(f\"   Executor memory: {config['executor_memory']}\")\n",
    "    print(f\"   Driver memory: {config['driver_memory']}\")\n",
    "    return config"
   ]
  },
  {
   "cell_type": "code",
   "execution_count": 8,
   "metadata": {},
   "outputs": [
    {
     "name": "stdout",
     "output_type": "stream",
     "text": [
      "Logging configured to suppress common Spark warnings\n",
      " Cluster Analysis:\n",
      "   Nodes: 4\n",
      "   Total CPUs: 24\n",
      "   Total Memory: 72.4 GB\n",
      " Optimal Spark Configuration:\n",
      "   Executors: 4\n",
      "   Executor cores: 5\n",
      "   Executor memory: 11g\n",
      "   Driver memory: 4g\n"
     ]
    }
   ],
   "source": [
    "configure_logging()\n",
    "spark_config = get_optimal_spark_config(cluster_resources)\n",
    "spark_configs = get_spark_configs_with_warning_suppression()\n",
    "spark_configs[\"spark.driver.memory\"] = spark_config['driver_memory']    "
   ]
  },
  {
   "cell_type": "markdown",
   "metadata": {},
   "source": [
    "## Initialize Ray DP with optimal Spark config"
   ]
  },
  {
   "cell_type": "code",
   "execution_count": 9,
   "metadata": {},
   "outputs": [
    {
     "name": "stdout",
     "output_type": "stream",
     "text": [
      "\n",
      " Initializing RayDP with optimal configuration...\n"
     ]
    },
    {
     "name": "stderr",
     "output_type": "stream",
     "text": [
      "Setting default log level to \"WARN\".\n",
      "To adjust logging level use sc.setLogLevel(newLevel). For SparkR, use setLogLevel(newLevel).\n",
      "25/06/28 01:50:27 WARN NativeCodeLoader: Unable to load native-hadoop library for your platform... using builtin-java classes where applicable\n"
     ]
    }
   ],
   "source": [
    "print(\"\\n Initializing RayDP with optimal configuration...\")\n",
    "spark = raydp.init_spark(\n",
    "    app_name=\"RayDP_MLLib_Distributed_Training\",\n",
    "    num_executors=spark_config['num_executors'],\n",
    "    executor_cores=spark_config['executor_cores'],\n",
    "    executor_memory=spark_config['executor_memory'],\n",
    "    configs=spark_configs\n",
    ")"
   ]
  },
  {
   "cell_type": "code",
   "execution_count": 10,
   "metadata": {},
   "outputs": [
    {
     "name": "stdout",
     "output_type": "stream",
     "text": [
      "Spark log level set to ERROR (warnings suppressed)\n"
     ]
    }
   ],
   "source": [
    "def set_spark_log_level(spark_session):\n",
    "    try:\n",
    "        spark_context = spark_session.sparkContext\n",
    "        spark_context.setLogLevel(\"ERROR\")\n",
    "        print(\"Spark log level set to ERROR (warnings suppressed)\")\n",
    "    except Exception as e:\n",
    "        print(f\"Could not set Spark log level: {e}\")\n",
    "set_spark_log_level(spark)"
   ]
  },
  {
   "cell_type": "code",
   "execution_count": 11,
   "metadata": {},
   "outputs": [
    {
     "name": "stdout",
     "output_type": "stream",
     "text": [
      "Spark session initialized\n",
      "Application ID: spark-application-1751075428163\n",
      "Spark Version: 3.5.4\n"
     ]
    }
   ],
   "source": [
    "print(f\"Spark session initialized\")\n",
    "print(f\"Application ID: {spark.sparkContext.applicationId}\")\n",
    "print(f\"Spark Version: {spark.version}\")"
   ]
  },
  {
   "cell_type": "markdown",
   "metadata": {},
   "source": [
    "## Perform classification"
   ]
  },
  {
   "cell_type": "markdown",
   "metadata": {},
   "source": [
    "### Create dataset"
   ]
  },
  {
   "cell_type": "code",
   "execution_count": 12,
   "metadata": {},
   "outputs": [],
   "source": [
    "@ray.remote\n",
    "def generate_data_chunk(chunk_id, chunk_size, num_features):\n",
    "    np.random.seed(chunk_id)\n",
    "    data = []\n",
    "    for i in range(chunk_size):\n",
    "        features = np.random.normal(0, 1, num_features)\n",
    "        features[1] = features[0] * 0.5 + np.random.normal(0, 0.5)\n",
    "        features[2] = features[0] * 0.3 + features[1] * 0.2 + np.random.normal(0, 0.8)\n",
    "        signal = (features[0] * 0.5 + \n",
    "                 features[1] * 0.3 + \n",
    "                 features[2] * 0.2 + \n",
    "                 np.sum(features[3:6]) * 0.1)\n",
    "        target = 1 if signal + np.random.normal(0, 0.5) > 0 else 0\n",
    "        row = [chunk_id * chunk_size + i] + features.tolist() + [target]\n",
    "        data.append(row)\n",
    "    return data"
   ]
  },
  {
   "cell_type": "code",
   "execution_count": 13,
   "metadata": {},
   "outputs": [],
   "source": [
    "def create_large_dataset(spark, num_rows=1_000_000, num_features=20):\n",
    "    \"\"\"\n",
    "    Create a large synthetic dataset using Ray for parallel data generation\n",
    "    \"\"\"\n",
    "    print(f\"Generating {num_rows:,} rows with {num_features} features for classification...\")\n",
    "    # Generate data in parallel using Ray\n",
    "    num_chunks = 50  # Distribute data generation\n",
    "    chunk_size = num_rows // num_chunks\n",
    "    print(f\"   Using {num_chunks} parallel data generation tasks...\")\n",
    "    # Generate data chunks in parallel\n",
    "    chunk_futures = [\n",
    "        generate_data_chunk.remote(i, chunk_size, num_features) \n",
    "        for i in range(num_chunks)\n",
    "    ]\n",
    "    chunks = ray.get(chunk_futures)\n",
    "    # Flatten data\n",
    "    all_data = []\n",
    "    for chunk in chunks:\n",
    "        all_data.extend(chunk)\n",
    "    print(f\"Generated {len(all_data):,} data points\")\n",
    "    # Create schema\n",
    "    feature_fields = [StructField(f\"feature_{i}\", DoubleType(), True) for i in range(num_features)]\n",
    "    target_field = StructField(\"target\", IntegerType(), True)\n",
    "    schema = StructType([StructField(\"id\", IntegerType(), True)] + feature_fields + [target_field])\n",
    "    # Create Spark DataFrame with high partition count for distribution\n",
    "    optimal_partitions = ray.cluster_resources().get('CPU', 24) * 2\n",
    "    df = spark.createDataFrame(all_data, schema).repartition(int(optimal_partitions))\n",
    "    print(f\"Created DataFrame with {df.rdd.getNumPartitions()} partitions\")\n",
    "    return df"
   ]
  },
  {
   "cell_type": "code",
   "execution_count": 14,
   "metadata": {},
   "outputs": [
    {
     "data": {
      "text/html": [
       "\n",
       "            <div>\n",
       "                <p><b>SparkSession - in-memory</b></p>\n",
       "                \n",
       "        <div>\n",
       "            <p><b>SparkContext</b></p>\n",
       "\n",
       "            <p><a href=\"http://10.244.186.11:4040\">Spark UI</a></p>\n",
       "\n",
       "            <dl>\n",
       "              <dt>Version</dt>\n",
       "                <dd><code>v3.5.4</code></dd>\n",
       "              <dt>Master</dt>\n",
       "                <dd><code>ray://RAY_APP_MASTER@10.244.186.11:43945</code></dd>\n",
       "              <dt>AppName</dt>\n",
       "                <dd><code>RayDP_MLLib_Distributed_Training</code></dd>\n",
       "            </dl>\n",
       "        </div>\n",
       "        \n",
       "            </div>\n",
       "        "
      ],
      "text/plain": [
       "<pyspark.sql.session.SparkSession at 0x7f669c27e110>"
      ]
     },
     "execution_count": 14,
     "metadata": {},
     "output_type": "execute_result"
    }
   ],
   "source": [
    "spark"
   ]
  },
  {
   "cell_type": "code",
   "execution_count": 15,
   "metadata": {},
   "outputs": [
    {
     "name": "stdout",
     "output_type": "stream",
     "text": [
      "Generating 1,000,000 rows with 20 features for classification...\n",
      "   Using 50 parallel data generation tasks...\n",
      "Generated 1,000,000 data points\n"
     ]
    },
    {
     "name": "stderr",
     "output_type": "stream",
     "text": [
      "[Stage 0:===================================================>  (189 + 11) / 200]"
     ]
    },
    {
     "name": "stdout",
     "output_type": "stream",
     "text": [
      "Created DataFrame with 48 partitions\n"
     ]
    }
   ],
   "source": [
    "rows = 1_000_000\n",
    "features = 20\n",
    "df_class = create_large_dataset(spark, rows, features)"
   ]
  },
  {
   "cell_type": "code",
   "execution_count": 16,
   "metadata": {},
   "outputs": [
    {
     "name": "stderr",
     "output_type": "stream",
     "text": [
      "                                                                                "
     ]
    },
    {
     "name": "stdout",
     "output_type": "stream",
     "text": [
      "+----+-------------------+-------------------+-------------------+--------------------+------------------+----------------+-----------------+-------------------+------------------+-------------------+-------------------+-------------------+-------------------+------------------+-------------------+-----------------+------------------+-------------------+-------------------+------------------+------+\n",
      "|  id|          feature_0|          feature_1|          feature_2|           feature_3|         feature_4|       feature_5|        feature_6|          feature_7|         feature_8|          feature_9|         feature_10|         feature_11|         feature_12|        feature_13|         feature_14|       feature_15|        feature_16|         feature_17|         feature_18|        feature_19|target|\n",
      "+----+-------------------+-------------------+-------------------+--------------------+------------------+----------------+-----------------+-------------------+------------------+-------------------+-------------------+-------------------+-------------------+------------------+-------------------+-----------------+------------------+-------------------+-------------------+------------------+------+\n",
      "|1928|-0.7629907970201347|0.10433652592089737|-0.4098299893299155|-0.38911653581705036|1.0277502143342636|1.17132093328535|1.479728475763807|-1.3836252439649517|-0.250529558101847|-0.4447466965810111|0.19255168323454475|-0.6498235332675114|0.29018803742525995|1.6240187052454935|0.47432809814478566|2.106359238547295|0.5284393576896032|-0.8047794311118146|0.21042565036792865|0.7566365432442838|     0|\n",
      "+----+-------------------+-------------------+-------------------+--------------------+------------------+----------------+-----------------+-------------------+------------------+-------------------+-------------------+-------------------+-------------------+------------------+-------------------+-----------------+------------------+-------------------+-------------------+------------------+------+\n",
      "only showing top 1 row\n",
      "\n"
     ]
    }
   ],
   "source": [
    "df_class.show(1)"
   ]
  },
  {
   "cell_type": "markdown",
   "metadata": {},
   "source": [
    "### Train classification model"
   ]
  },
  {
   "cell_type": "code",
   "execution_count": 17,
   "metadata": {},
   "outputs": [],
   "source": [
    "def train_classification_model(df, spark_config):\n",
    "    feature_cols = [f\"feature_{i}\" for i in range(20)]\n",
    "    assembler = VectorAssembler(inputCols=feature_cols, outputCol=\"raw_features\")\n",
    "    scaler = StandardScaler(inputCol=\"raw_features\", outputCol=\"features\", withStd=True, withMean=True)\n",
    "    rf = RandomForestClassifier(\n",
    "        labelCol=\"target\",\n",
    "        featuresCol=\"features\",\n",
    "        numTrees=100,\n",
    "        maxDepth=10,\n",
    "        maxBins=32,\n",
    "        minInstancesPerNode=10,\n",
    "        seed=42\n",
    "    )\n",
    "    pipeline = Pipeline(stages=[assembler, scaler, rf])\n",
    "    train_data, test_data = df.randomSplit([0.8, 0.2], seed=42)\n",
    "    print(f\"Training set: {train_data.count():,} rows\")\n",
    "    print(f\"Test set: {test_data.count():,} rows\")\n",
    "    print(\"Starting distributed training...\")\n",
    "    start_time = time.time()\n",
    "    model = pipeline.fit(train_data)\n",
    "    training_time = time.time() - start_time\n",
    "    print(f\"Training completed in {training_time:.2f} seconds\")\n",
    "    print(\"Evaluating model...\")\n",
    "    predictions = model.transform(test_data)\n",
    "    evaluator_auc = BinaryClassificationEvaluator(labelCol=\"target\", metricName=\"areaUnderROC\")\n",
    "    evaluator_acc = MulticlassClassificationEvaluator(labelCol=\"target\", predictionCol=\"prediction\", metricName=\"accuracy\")\n",
    "    auc = evaluator_auc.evaluate(predictions)\n",
    "    accuracy = evaluator_acc.evaluate(predictions)\n",
    "    print(f\"Model Performance:\")\n",
    "    print(f\"AUC: {auc:.4f}\")\n",
    "    print(f\"Accuracy: {accuracy:.4f}\")\n",
    "    print(f\"Training time: {training_time:.2f}s\")\n",
    "    return model, {'auc': auc, 'accuracy': accuracy, 'training_time': training_time}"
   ]
  },
  {
   "cell_type": "code",
   "execution_count": 18,
   "metadata": {},
   "outputs": [
    {
     "name": "stderr",
     "output_type": "stream",
     "text": [
      "                                                                                "
     ]
    },
    {
     "name": "stdout",
     "output_type": "stream",
     "text": [
      "Training set: 799,674 rows\n"
     ]
    },
    {
     "name": "stderr",
     "output_type": "stream",
     "text": [
      "                                                                                "
     ]
    },
    {
     "name": "stdout",
     "output_type": "stream",
     "text": [
      "Test set: 200,326 rows\n",
      "Starting distributed training...\n"
     ]
    },
    {
     "name": "stderr",
     "output_type": "stream",
     "text": [
      "[Stage 68:====================================================> (193 + 7) / 200]"
     ]
    },
    {
     "name": "stdout",
     "output_type": "stream",
     "text": [
      "Training completed in 87.44 seconds\n",
      "Evaluating model...\n"
     ]
    },
    {
     "name": "stderr",
     "output_type": "stream",
     "text": [
      "[Stage 87:===============================================>        (41 + 7) / 48]"
     ]
    },
    {
     "name": "stdout",
     "output_type": "stream",
     "text": [
      "Model Performance:\n",
      "AUC: 0.9018\n",
      "Accuracy: 0.8157\n",
      "Training time: 87.44s\n"
     ]
    },
    {
     "name": "stderr",
     "output_type": "stream",
     "text": [
      "                                                                                "
     ]
    }
   ],
   "source": [
    "model_class, metrics_class = train_classification_model(df_class, spark_config)"
   ]
  },
  {
   "cell_type": "markdown",
   "metadata": {},
   "source": [
    "### Hyperparameter tuning"
   ]
  },
  {
   "cell_type": "code",
   "execution_count": 19,
   "metadata": {},
   "outputs": [],
   "source": [
    "def hyperparameter_tuning(df):\n",
    "    feature_cols = [f\"feature_{i}\" for i in range(20)]\n",
    "    assembler = VectorAssembler(inputCols=feature_cols, outputCol=\"features\")\n",
    "    estimator = RandomForestClassifier(labelCol=\"target\", featuresCol=\"features\", seed=42)\n",
    "    evaluator = BinaryClassificationEvaluator(labelCol=\"target\", metricName=\"areaUnderROC\")\n",
    "    paramGrid = ParamGridBuilder() \\\n",
    "        .addGrid(estimator.numTrees, [50, 100]) \\\n",
    "        .addGrid(estimator.maxDepth, [5, 10]) \\\n",
    "        .addGrid(estimator.minInstancesPerNode, [5, 10]) \\\n",
    "        .build()\n",
    "    pipeline = Pipeline(stages=[assembler, estimator])\n",
    "    crossval = CrossValidator(\n",
    "        estimator=pipeline,\n",
    "        estimatorParamMaps=paramGrid,\n",
    "        evaluator=evaluator,\n",
    "        numFolds=3,\n",
    "        seed=42\n",
    "    )\n",
    "    train_data, _ = df.randomSplit([0.8, 0.2], seed=42)\n",
    "    print(f\"Starting hyperparameter tuning with {len(paramGrid)} parameter combinations...\")\n",
    "    start_time = time.time()\n",
    "    cv_model = crossval.fit(train_data)\n",
    "    tuning_time = time.time() - start_time\n",
    "    print(f\"Hyperparameter tuning completed in {tuning_time:.2f} seconds\")\n",
    "    # Get best model\n",
    "    best_model = cv_model.bestModel\n",
    "    print(f\"Best hyperparameters found:\")\n",
    "    rf_stage = best_model.stages[-1]\n",
    "    print(f\"numTrees: {rf_stage.getNumTrees()}\")\n",
    "    print(f\"maxDepth: {rf_stage.getMaxDepth()}\")\n",
    "    print(f\"minInstancesPerNode: {rf_stage.getMinInstancesPerNode()}\")\n",
    "    return cv_model, tuning_time"
   ]
  },
  {
   "cell_type": "code",
   "execution_count": null,
   "metadata": {},
   "outputs": [
    {
     "name": "stdout",
     "output_type": "stream",
     "text": [
      "Starting hyperparameter tuning with 8 parameter combinations...\n"
     ]
    },
    {
     "name": "stderr",
     "output_type": "stream",
     "text": [
      "[Stage 462:======================>                               (20 + 15) / 48]"
     ]
    }
   ],
   "source": [
    "cv_model_class, tune_time_class = hyperparameter_tuning(df_class)"
   ]
  },
  {
   "cell_type": "code",
   "execution_count": null,
   "metadata": {},
   "outputs": [],
   "source": []
  }
 ],
 "metadata": {
  "kernelspec": {
   "display_name": "Python 3 (ipykernel)",
   "language": "python",
   "name": "python3"
  },
  "language_info": {
   "codemirror_mode": {
    "name": "ipython",
    "version": 3
   },
   "file_extension": ".py",
   "mimetype": "text/x-python",
   "name": "python",
   "nbconvert_exporter": "python",
   "pygments_lexer": "ipython3",
   "version": "3.10.12"
  }
 },
 "nbformat": 4,
 "nbformat_minor": 4
}
