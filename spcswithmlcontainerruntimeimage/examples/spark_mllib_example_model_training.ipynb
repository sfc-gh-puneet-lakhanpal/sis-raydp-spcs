{
 "cells": [
  {
   "cell_type": "markdown",
   "metadata": {
    "vscode": {
     "languageId": "raw"
    }
   },
   "source": [
    "# RayDP - Distributed Spark MLLib based Model Training on Snowpark Container Services\n",
    "\n",
    "This notebook demonstrates how to use RayDP to perform distributed Spark MLLIb based model training on Ray cluster in Snowpark Container Services."
   ]
  },
  {
   "cell_type": "markdown",
   "metadata": {
    "vscode": {
     "languageId": "raw"
    }
   },
   "source": [
    "## Setup and Imports"
   ]
  },
  {
   "cell_type": "code",
   "execution_count": 1,
   "metadata": {},
   "outputs": [
    {
     "name": "stderr",
     "output_type": "stream",
     "text": [
      "/opt/conda/lib/python3.10/site-packages/snowflake/snowpark/session.py:38: UserWarning: pkg_resources is deprecated as an API. See https://setuptools.pypa.io/en/latest/pkg_resources.html. The pkg_resources package is slated for removal as early as 2025-11-30. Refrain from using this package or pin to Setuptools<81.\n",
      "  import pkg_resources\n"
     ]
    },
    {
     "name": "stdout",
     "output_type": "stream",
     "text": [
      "Ray version: 2.46.0\n",
      "RayDP version: 1.6.2\n"
     ]
    }
   ],
   "source": [
    "import ray\n",
    "import raydp\n",
    "import pprint\n",
    "import warnings\n",
    "import logging    \n",
    "import time\n",
    "import os\n",
    "import numpy as np\n",
    "import socket\n",
    "from pyspark.sql import SparkSession\n",
    "from pyspark.sql.functions import col, rand, when, round as spark_round\n",
    "from pyspark.sql.types import StructType, StructField, DoubleType, IntegerType\n",
    "from pyspark.ml.feature import VectorAssembler, StandardScaler\n",
    "from pyspark.ml.classification import RandomForestClassifier, LogisticRegression\n",
    "from pyspark.ml.regression import RandomForestRegressor, LinearRegression\n",
    "from pyspark.ml.evaluation import BinaryClassificationEvaluator, MulticlassClassificationEvaluator, RegressionEvaluator\n",
    "from pyspark.ml.tuning import CrossValidator, ParamGridBuilder\n",
    "from pyspark.ml import Pipeline\n",
    "import snowflake.connector\n",
    "from snowflake.snowpark import Session\n",
    "from snowflake.ml.data.data_connector import DataConnector\n",
    "from snowflake.ml.ray.datasink import SnowflakeTableDatasink\n",
    "print(f\"Ray version: {ray.__version__}\")\n",
    "print(f\"RayDP version: {raydp.__version__}\")"
   ]
  },
  {
   "cell_type": "markdown",
   "metadata": {},
   "source": [
    "## Initialize Snowpark Session"
   ]
  },
  {
   "cell_type": "code",
   "execution_count": 2,
   "metadata": {},
   "outputs": [],
   "source": [
    "def connection() -> snowflake.connector.SnowflakeConnection:\n",
    "    if os.path.isfile(\"/snowflake/session/token\"):\n",
    "        creds = {\n",
    "            'host': os.getenv('SNOWFLAKE_HOST'),\n",
    "            'port': os.getenv('SNOWFLAKE_PORT'),\n",
    "            'protocol': \"https\",\n",
    "            'account': os.getenv('SNOWFLAKE_ACCOUNT'),\n",
    "            'authenticator': \"oauth\",\n",
    "            'token': open('/snowflake/session/token', 'r').read(),\n",
    "            'warehouse': \"LARGE_WH\",\n",
    "            'database': os.getenv('SNOWFLAKE_DATABASE'),\n",
    "            'schema': os.getenv('SNOWFLAKE_SCHEMA'),\n",
    "            'client_session_keep_alive': True\n",
    "        }\n",
    "    else:\n",
    "        creds = {\n",
    "            'account': os.getenv('SNOWFLAKE_ACCOUNT'),\n",
    "            'user': os.getenv('SNOWFLAKE_USER'),\n",
    "            'password': os.getenv('SNOWFLAKE_PASSWORD'),\n",
    "            'warehouse': snowflake_warehouse,\n",
    "            'database': os.getenv('SNOWFLAKE_DATABASE'),\n",
    "            'schema': os.getenv('SNOWFLAKE_SCHEMA'),\n",
    "            'client_session_keep_alive': True\n",
    "        }\n",
    "\n",
    "    connection = snowflake.connector.connect(**creds)\n",
    "    return connection\n",
    "\n",
    "def get_session() -> Session:\n",
    "    return Session.builder.configs({\"connection\": connection()}).create()"
   ]
  },
  {
   "cell_type": "code",
   "execution_count": 3,
   "metadata": {},
   "outputs": [],
   "source": [
    "session = get_session()"
   ]
  },
  {
   "cell_type": "code",
   "execution_count": 4,
   "metadata": {},
   "outputs": [
    {
     "data": {
      "text/plain": [
       "'\"RAYDP_SIS_DB\"'"
      ]
     },
     "execution_count": 4,
     "metadata": {},
     "output_type": "execute_result"
    }
   ],
   "source": [
    "session.get_current_database()"
   ]
  },
  {
   "cell_type": "code",
   "execution_count": 6,
   "metadata": {},
   "outputs": [
    {
     "name": "stderr",
     "output_type": "stream",
     "text": [
      "2025-07-06 23:00:24,761\tINFO worker.py:1694 -- Connecting to existing Ray cluster at address: 10.244.10.75:6379...\n",
      "2025-07-06 23:00:24,773\tINFO worker.py:1879 -- Connected to Ray cluster. View the dashboard at \u001b[1m\u001b[32m10.244.10.75:8265 \u001b[39m\u001b[22m\n"
     ]
    },
    {
     "data": {
      "application/vnd.jupyter.widget-view+json": {
       "model_id": "1bd40c9daefe436ba09a0fbc4be6fef5",
       "version_major": 2,
       "version_minor": 0
      },
      "text/html": [
       "<div class=\"lm-Widget p-Widget lm-Panel p-Panel jp-Cell-outputWrapper\">\n",
       "    <div style=\"margin-left: 50px;display: flex;flex-direction: row;align-items: center\">\n",
       "        <div class=\"jp-RenderedHTMLCommon\" style=\"display: flex; flex-direction: row;\">\n",
       "  <svg viewBox=\"0 0 567 224\" fill=\"none\" xmlns=\"http://www.w3.org/2000/svg\" style=\"height: 3em;\">\n",
       "    <g clip-path=\"url(#clip0_4338_178347)\">\n",
       "        <path d=\"M341.29 165.561H355.29L330.13 129.051C345.63 123.991 354.21 112.051 354.21 94.2307C354.21 71.3707 338.72 58.1807 311.88 58.1807H271V165.561H283.27V131.661H311.8C314.25 131.661 316.71 131.501 319.01 131.351L341.25 165.561H341.29ZM283.29 119.851V70.0007H311.82C331.3 70.0007 342.34 78.2907 342.34 94.5507C342.34 111.271 331.34 119.861 311.82 119.861L283.29 119.851ZM451.4 138.411L463.4 165.561H476.74L428.74 58.1807H416L367.83 165.561H380.83L392.83 138.411H451.4ZM446.19 126.601H398L422 72.1407L446.24 126.601H446.19ZM526.11 128.741L566.91 58.1807H554.35L519.99 114.181L485.17 58.1807H472.44L514.01 129.181V165.541H526.13V128.741H526.11Z\" fill=\"var(--jp-ui-font-color0)\"/>\n",
       "        <path d=\"M82.35 104.44C84.0187 97.8827 87.8248 92.0678 93.1671 87.9146C98.5094 83.7614 105.083 81.5067 111.85 81.5067C118.617 81.5067 125.191 83.7614 130.533 87.9146C135.875 92.0678 139.681 97.8827 141.35 104.44H163.75C164.476 101.562 165.622 98.8057 167.15 96.2605L127.45 56.5605C121.071 60.3522 113.526 61.6823 106.235 60.3005C98.9443 58.9187 92.4094 54.9203 87.8602 49.0574C83.3109 43.1946 81.0609 35.8714 81.5332 28.4656C82.0056 21.0599 85.1679 14.0819 90.4252 8.8446C95.6824 3.60726 102.672 0.471508 110.08 0.0272655C117.487 -0.416977 124.802 1.86091 130.647 6.4324C136.493 11.0039 140.467 17.5539 141.821 24.8501C143.175 32.1463 141.816 39.6859 138 46.0505L177.69 85.7505C182.31 82.9877 187.58 81.4995 192.962 81.4375C198.345 81.3755 203.648 82.742 208.33 85.3976C213.012 88.0532 216.907 91.9029 219.616 96.5544C222.326 101.206 223.753 106.492 223.753 111.875C223.753 117.258 222.326 122.545 219.616 127.197C216.907 131.848 213.012 135.698 208.33 138.353C203.648 141.009 198.345 142.375 192.962 142.313C187.58 142.251 182.31 140.763 177.69 138L138 177.7C141.808 184.071 143.155 191.614 141.79 198.91C140.424 206.205 136.44 212.75 130.585 217.313C124.731 221.875 117.412 224.141 110.004 223.683C102.596 223.226 95.6103 220.077 90.3621 214.828C85.1139 209.58 81.9647 202.595 81.5072 195.187C81.0497 187.779 83.3154 180.459 87.878 174.605C92.4405 168.751 98.9853 164.766 106.281 163.401C113.576 162.035 121.119 163.383 127.49 167.19L167.19 127.49C165.664 124.941 164.518 122.182 163.79 119.3H141.39C139.721 125.858 135.915 131.673 130.573 135.826C125.231 139.98 118.657 142.234 111.89 142.234C105.123 142.234 98.5494 139.98 93.2071 135.826C87.8648 131.673 84.0587 125.858 82.39 119.3H60C58.1878 126.495 53.8086 132.78 47.6863 136.971C41.5641 141.163 34.1211 142.972 26.7579 142.059C19.3947 141.146 12.6191 137.574 7.70605 132.014C2.79302 126.454 0.0813599 119.29 0.0813599 111.87C0.0813599 104.451 2.79302 97.2871 7.70605 91.7272C12.6191 86.1673 19.3947 82.5947 26.7579 81.6817C34.1211 80.7686 41.5641 82.5781 47.6863 86.7696C53.8086 90.9611 58.1878 97.2456 60 104.44H82.35ZM100.86 204.32C103.407 206.868 106.759 208.453 110.345 208.806C113.93 209.159 117.527 208.258 120.522 206.256C123.517 204.254 125.725 201.276 126.771 197.828C127.816 194.38 127.633 190.677 126.253 187.349C124.874 184.021 122.383 181.274 119.205 179.577C116.027 177.88 112.359 177.337 108.826 178.042C105.293 178.746 102.113 180.654 99.8291 183.44C97.5451 186.226 96.2979 189.718 96.3 193.32C96.2985 195.364 96.7006 197.388 97.4831 199.275C98.2656 201.163 99.4132 202.877 100.86 204.32ZM204.32 122.88C206.868 120.333 208.453 116.981 208.806 113.396C209.159 109.811 208.258 106.214 206.256 103.219C204.254 100.223 201.275 98.0151 197.827 96.97C194.38 95.9249 190.676 96.1077 187.348 97.4873C184.02 98.8669 181.274 101.358 179.577 104.536C177.879 107.714 177.337 111.382 178.041 114.915C178.746 118.448 180.653 121.627 183.439 123.911C186.226 126.195 189.717 127.443 193.32 127.44C195.364 127.443 197.388 127.042 199.275 126.259C201.163 125.476 202.878 124.328 204.32 122.88ZM122.88 19.4205C120.333 16.8729 116.981 15.2876 113.395 14.9347C109.81 14.5817 106.213 15.483 103.218 17.4849C100.223 19.4868 98.0146 22.4654 96.9696 25.9131C95.9245 29.3608 96.1073 33.0642 97.4869 36.3922C98.8665 39.7202 101.358 42.4668 104.535 44.1639C107.713 45.861 111.381 46.4036 114.914 45.6992C118.447 44.9949 121.627 43.0871 123.911 40.301C126.195 37.515 127.442 34.0231 127.44 30.4205C127.44 28.3772 127.038 26.3539 126.255 24.4664C125.473 22.5788 124.326 20.8642 122.88 19.4205ZM19.42 100.86C16.8725 103.408 15.2872 106.76 14.9342 110.345C14.5813 113.93 15.4826 117.527 17.4844 120.522C19.4863 123.518 22.4649 125.726 25.9127 126.771C29.3604 127.816 33.0638 127.633 36.3918 126.254C39.7198 124.874 42.4664 122.383 44.1635 119.205C45.8606 116.027 46.4032 112.359 45.6988 108.826C44.9944 105.293 43.0866 102.114 40.3006 99.8296C37.5145 97.5455 34.0227 96.2983 30.42 96.3005C26.2938 96.3018 22.337 97.9421 19.42 100.86ZM100.86 100.86C98.3125 103.408 96.7272 106.76 96.3742 110.345C96.0213 113.93 96.9226 117.527 98.9244 120.522C100.926 123.518 103.905 125.726 107.353 126.771C110.8 127.816 114.504 127.633 117.832 126.254C121.16 124.874 123.906 122.383 125.604 119.205C127.301 116.027 127.843 112.359 127.139 108.826C126.434 105.293 124.527 102.114 121.741 99.8296C118.955 97.5455 115.463 96.2983 111.86 96.3005C109.817 96.299 107.793 96.701 105.905 97.4835C104.018 98.2661 102.303 99.4136 100.86 100.86Z\" fill=\"#00AEEF\"/>\n",
       "    </g>\n",
       "    <defs>\n",
       "        <clipPath id=\"clip0_4338_178347\">\n",
       "            <rect width=\"566.93\" height=\"223.75\" fill=\"white\"/>\n",
       "        </clipPath>\n",
       "    </defs>\n",
       "  </svg>\n",
       "</div>\n",
       "\n",
       "        <table class=\"jp-RenderedHTMLCommon\" style=\"border-collapse: collapse;color: var(--jp-ui-font-color1);font-size: var(--jp-ui-font-size1);\">\n",
       "    <tr>\n",
       "        <td style=\"text-align: left\"><b>Python version:</b></td>\n",
       "        <td style=\"text-align: left\"><b>3.10.17</b></td>\n",
       "    </tr>\n",
       "    <tr>\n",
       "        <td style=\"text-align: left\"><b>Ray version:</b></td>\n",
       "        <td style=\"text-align: left\"><b>2.46.0</b></td>\n",
       "    </tr>\n",
       "    <tr>\n",
       "    <td style=\"text-align: left\"><b>Dashboard:</b></td>\n",
       "    <td style=\"text-align: left\"><b><a href=\"http://10.244.10.75:8265\" target=\"_blank\">http://10.244.10.75:8265</a></b></td>\n",
       "</tr>\n",
       "\n",
       "</table>\n",
       "\n",
       "    </div>\n",
       "</div>\n"
      ],
      "text/plain": [
       "RayContext(dashboard_url='10.244.10.75:8265', python_version='3.10.17', ray_version='2.46.0', ray_commit='c3dd2ca0c2a24ddf327a213d2e936bd4eaa4ca0a')"
      ]
     },
     "execution_count": 6,
     "metadata": {},
     "output_type": "execute_result"
    }
   ],
   "source": [
    "ray.init(address=\"auto\", ignore_reinit_error=True, log_to_driver=False)"
   ]
  },
  {
   "cell_type": "code",
   "execution_count": 7,
   "metadata": {},
   "outputs": [],
   "source": [
    "cluster_resources = ray.cluster_resources()\n",
    "nodes = ray.nodes()"
   ]
  },
  {
   "cell_type": "code",
   "execution_count": 8,
   "metadata": {},
   "outputs": [
    {
     "name": "stdout",
     "output_type": "stream",
     "text": [
      "  Cluster Information:\n",
      "   Node 1: {'CPU': 6.0, 'GPU': 1.0, 'accelerator_type:A10G': 1.0, 'object_store_memory': 8659282329.0, 'node:10.244.11.75': 1.0, 'memory': 20204992103.0}\n",
      "   Node 2: {'node:10.244.10.75': 1.0, 'CPU': 6.0, 'node:__internal_head__': 1.0, 'GPU': 1.0, 'accelerator_type:A10G': 1.0, 'object_store_memory': 8420179968.0, 'memory': 19647086592.0}\n",
      "   Node 3: {'CPU': 6.0, 'node:10.244.10.203': 1.0, 'GPU': 1.0, 'accelerator_type:A10G': 1.0, 'object_store_memory': 8659241779.0, 'memory': 20204897485.0}\n",
      "   Node 4: {'CPU': 6.0, 'accelerator_type:A10G': 1.0, 'object_store_memory': 8659227033.0, 'GPU': 1.0, 'node:10.244.10.139': 1.0, 'memory': 20204863079.0}\n",
      "\n"
     ]
    }
   ],
   "source": [
    "print(\"  Cluster Information:\")\n",
    "for i, node in enumerate(nodes):\n",
    "    node_resources = node.get('Resources', {})\n",
    "    print(f\"   Node {i+1}: {node_resources}\")\n",
    "print()"
   ]
  },
  {
   "cell_type": "markdown",
   "metadata": {},
   "source": [
    "## See data"
   ]
  },
  {
   "cell_type": "code",
   "execution_count": 9,
   "metadata": {},
   "outputs": [
    {
     "data": {
      "text/html": [
       "<div>\n",
       "<style scoped>\n",
       "    .dataframe tbody tr th:only-of-type {\n",
       "        vertical-align: middle;\n",
       "    }\n",
       "\n",
       "    .dataframe tbody tr th {\n",
       "        vertical-align: top;\n",
       "    }\n",
       "\n",
       "    .dataframe thead th {\n",
       "        text-align: right;\n",
       "    }\n",
       "</style>\n",
       "<table border=\"1\" class=\"dataframe\">\n",
       "  <thead>\n",
       "    <tr style=\"text-align: right;\">\n",
       "      <th></th>\n",
       "      <th>ID</th>\n",
       "      <th>FEATURE_0</th>\n",
       "      <th>FEATURE_1</th>\n",
       "      <th>FEATURE_2</th>\n",
       "      <th>FEATURE_3</th>\n",
       "      <th>FEATURE_4</th>\n",
       "      <th>FEATURE_5</th>\n",
       "      <th>FEATURE_6</th>\n",
       "      <th>FEATURE_7</th>\n",
       "      <th>FEATURE_8</th>\n",
       "      <th>...</th>\n",
       "      <th>FEATURE_11</th>\n",
       "      <th>FEATURE_12</th>\n",
       "      <th>FEATURE_13</th>\n",
       "      <th>FEATURE_14</th>\n",
       "      <th>FEATURE_15</th>\n",
       "      <th>FEATURE_16</th>\n",
       "      <th>FEATURE_17</th>\n",
       "      <th>FEATURE_18</th>\n",
       "      <th>FEATURE_19</th>\n",
       "      <th>TARGET</th>\n",
       "    </tr>\n",
       "  </thead>\n",
       "  <tbody>\n",
       "    <tr>\n",
       "      <th>0</th>\n",
       "      <td>0</td>\n",
       "      <td>1.764052</td>\n",
       "      <td>-0.394469</td>\n",
       "      <td>0.973217</td>\n",
       "      <td>2.240893</td>\n",
       "      <td>1.867558</td>\n",
       "      <td>-0.977278</td>\n",
       "      <td>0.950088</td>\n",
       "      <td>-0.151357</td>\n",
       "      <td>-0.103219</td>\n",
       "      <td>...</td>\n",
       "      <td>1.454274</td>\n",
       "      <td>0.761038</td>\n",
       "      <td>0.121675</td>\n",
       "      <td>0.443863</td>\n",
       "      <td>0.333674</td>\n",
       "      <td>1.494079</td>\n",
       "      <td>-0.205158</td>\n",
       "      <td>0.313068</td>\n",
       "      <td>-0.854096</td>\n",
       "      <td>1</td>\n",
       "    </tr>\n",
       "  </tbody>\n",
       "</table>\n",
       "<p>1 rows × 22 columns</p>\n",
       "</div>"
      ],
      "text/plain": [
       "   ID  FEATURE_0  FEATURE_1  FEATURE_2  FEATURE_3  FEATURE_4  FEATURE_5  \\\n",
       "0   0   1.764052  -0.394469   0.973217   2.240893   1.867558  -0.977278   \n",
       "\n",
       "   FEATURE_6  FEATURE_7  FEATURE_8  ...  FEATURE_11  FEATURE_12  FEATURE_13  \\\n",
       "0   0.950088  -0.151357  -0.103219  ...    1.454274    0.761038    0.121675   \n",
       "\n",
       "   FEATURE_14  FEATURE_15  FEATURE_16  FEATURE_17  FEATURE_18  FEATURE_19  \\\n",
       "0    0.443863    0.333674    1.494079   -0.205158    0.313068   -0.854096   \n",
       "\n",
       "   TARGET  \n",
       "0       1  \n",
       "\n",
       "[1 rows x 22 columns]"
      ]
     },
     "execution_count": 9,
     "metadata": {},
     "output_type": "execute_result"
    }
   ],
   "source": [
    "raw_data_snowdf = session.table(\"SPARK_MLLIB_SAMPLE_DATASET\")\n",
    "raw_data_snowdf.limit(1).to_pandas()"
   ]
  },
  {
   "cell_type": "code",
   "execution_count": 19,
   "metadata": {},
   "outputs": [],
   "source": [
    "train_snowdf, test_snowdf = raw_data_snowdf.random_split(weights=[0.70, 0.30], seed=0)"
   ]
  },
  {
   "cell_type": "code",
   "execution_count": 20,
   "metadata": {},
   "outputs": [],
   "source": [
    "train_snowdf.write.mode(\"overwrite\").save_as_table(\"TRAIN_SPARK_MLLIB_DATASET\")\n",
    "test_snowdf.write.mode(\"overwrite\").save_as_table(\"TEST_SPARK_MLLIB_DATASET\")"
   ]
  },
  {
   "cell_type": "code",
   "execution_count": 11,
   "metadata": {},
   "outputs": [],
   "source": [
    "train_snowdf = session.table(\"TRAIN_SPARK_MLLIB_DATASET\")\n",
    "test_snowdf = session.table(\"TEST_SPARK_MLLIB_DATASET\")"
   ]
  },
  {
   "cell_type": "code",
   "execution_count": 12,
   "metadata": {},
   "outputs": [
    {
     "name": "stderr",
     "output_type": "stream",
     "text": [
      "SnowflakeLoginOptions() is in private preview since 0.2.0. Do not use it in production. \n"
     ]
    },
    {
     "name": "stdout",
     "output_type": "stream",
     "text": [
      "Info - 2025-07-06 23:01:05.069953 - Loading data from Snowpark Dataframe from query id 01bd8445-0205-de3e-0000-50070c8982de\n",
      "Info - 2025-07-06 23:01:05.592688 - Finished executing data load query.\n",
      "Info - 2025-07-06 23:01:05.774074 - Loaded data into ray dataset.\n"
     ]
    }
   ],
   "source": [
    "train_rayds =  DataConnector.from_dataframe(train_snowdf).to_ray_dataset()"
   ]
  },
  {
   "cell_type": "markdown",
   "metadata": {},
   "source": [
    "### Get optimal spark config"
   ]
  },
  {
   "cell_type": "code",
   "execution_count": 13,
   "metadata": {},
   "outputs": [],
   "source": [
    "def configure_logging():\n",
    "    logging.getLogger(\"py4j\").setLevel(logging.ERROR)\n",
    "    logging.getLogger(\"pyspark\").setLevel(logging.ERROR)\n",
    "    warnings.filterwarnings(\"ignore\", category=FutureWarning)\n",
    "    warnings.filterwarnings(\"ignore\", category=UserWarning)\n",
    "    print(\"Logging configured to suppress common Spark warnings\")\n",
    "def get_spark_configs_with_warning_suppression():\n",
    "    \"\"\"\n",
    "    Get Spark configurations that suppress common warnings\n",
    "    \"\"\"\n",
    "    return {\n",
    "        \"spark.sql.adaptive.enabled\": \"true\",\n",
    "        \"spark.sql.adaptive.coalescePartitions.enabled\": \"true\",\n",
    "        \"spark.serializer\": \"org.apache.spark.serializer.KryoSerializer\",\n",
    "        \"spark.sql.adaptive.advisoryPartitionSizeInBytes\": \"256MB\",\n",
    "        \"spark.ml.tree.maxMemoryInMB\": \"2048\",\n",
    "        \"spark.task.maxFailures\": \"3\",\n",
    "        \"spark.sql.execution.arrow.pyspark.enabled\": \"true\",\n",
    "        \"spark.sql.adaptive.maxRecordsPerPartition\": \"50000\",\n",
    "        \"spark.rdd.compress\": \"true\",\n",
    "        \"spark.io.compression.codec\": \"snappy\",\n",
    "        \"spark.sql.autoBroadcastJoinThreshold\": \"50MB\",\n",
    "        \"spark.broadcast.blockSize\": \"8m\",\n",
    "        \"spark.sql.execution.arrow.maxRecordsPerBatch\": \"20000\",        \n",
    "        \"spark.sql.shuffle.partitions\": \"200\",\n",
    "        \"spark.default.parallelism\": \"200\",\n",
    "        \"spark.network.timeout\": \"800s\",\n",
    "        \"spark.executor.heartbeatInterval\": \"60s\"\n",
    "    }"
   ]
  },
  {
   "cell_type": "code",
   "execution_count": 14,
   "metadata": {},
   "outputs": [],
   "source": [
    "def get_optimal_spark_config(cluster_resources):\n",
    "    \"\"\"\n",
    "    Calculate optimal Spark configuration for the cluster\n",
    "    \"\"\"\n",
    "    total_cpus = int(cluster_resources.get('CPU', 24))\n",
    "    total_memory_gb = cluster_resources.get('memory', 72 * 1024**3) / (1024**3)\n",
    "    num_nodes = len(ray.nodes())\n",
    "    print(f\" Cluster Analysis:\")\n",
    "    print(f\"   Nodes: {num_nodes}\")\n",
    "    print(f\"   Total CPUs: {total_cpus}\")\n",
    "    print(f\"   Total Memory: {total_memory_gb:.1f} GB\")\n",
    "    # Leave 1 CPU per node for Ray head/driver and OS\n",
    "    available_cpus = max(1, total_cpus - num_nodes)\n",
    "    # Target 1 executor per node for good distribution\n",
    "    num_executors = min(num_nodes, 4)\n",
    "    executor_cores = max(1, available_cpus // num_executors)\n",
    "    # Conservative memory allocation (leave 4GB per node for OS/Ray)\n",
    "    available_memory = max(8, total_memory_gb - (num_nodes * 4))\n",
    "    executor_memory_gb = max(2, int(available_memory // (num_executors + 1)))  # +1 for driver\n",
    "    driver_memory_gb = min(4, executor_memory_gb)\n",
    "    config = {\n",
    "        'num_executors': num_executors,\n",
    "        'executor_cores': executor_cores,\n",
    "        'executor_memory': f\"{executor_memory_gb}g\",\n",
    "        'driver_memory': f\"{driver_memory_gb}g\"\n",
    "    }\n",
    "    print(f\" Optimal Spark Configuration:\")\n",
    "    print(f\"   Executors: {config['num_executors']}\")\n",
    "    print(f\"   Executor cores: {config['executor_cores']}\")\n",
    "    print(f\"   Executor memory: {config['executor_memory']}\")\n",
    "    print(f\"   Driver memory: {config['driver_memory']}\")\n",
    "    return config"
   ]
  },
  {
   "cell_type": "code",
   "execution_count": 15,
   "metadata": {},
   "outputs": [
    {
     "name": "stdout",
     "output_type": "stream",
     "text": [
      "Logging configured to suppress common Spark warnings\n",
      " Cluster Analysis:\n",
      "   Nodes: 4\n",
      "   Total CPUs: 24\n",
      "   Total Memory: 74.7 GB\n",
      " Optimal Spark Configuration:\n",
      "   Executors: 4\n",
      "   Executor cores: 5\n",
      "   Executor memory: 11g\n",
      "   Driver memory: 4g\n"
     ]
    }
   ],
   "source": [
    "configure_logging()\n",
    "spark_config = get_optimal_spark_config(cluster_resources)\n",
    "spark_configs = get_spark_configs_with_warning_suppression()\n",
    "spark_configs[\"spark.driver.memory\"] = spark_config['driver_memory']    "
   ]
  },
  {
   "cell_type": "markdown",
   "metadata": {},
   "source": [
    "## Initialize Ray DP with optimal Spark config"
   ]
  },
  {
   "cell_type": "code",
   "execution_count": 16,
   "metadata": {},
   "outputs": [
    {
     "name": "stdout",
     "output_type": "stream",
     "text": [
      "\n",
      " Initializing RayDP with optimal configuration...\n"
     ]
    },
    {
     "name": "stderr",
     "output_type": "stream",
     "text": [
      "Setting default log level to \"WARN\".\n",
      "To adjust logging level use sc.setLogLevel(newLevel). For SparkR, use setLogLevel(newLevel).\n",
      "25/07/06 23:01:23 WARN NativeCodeLoader: Unable to load native-hadoop library for your platform... using builtin-java classes where applicable\n"
     ]
    }
   ],
   "source": [
    "print(\"\\n Initializing RayDP with optimal configuration...\")\n",
    "spark = raydp.init_spark(\n",
    "    app_name=\"RayDP_MLLib_Distributed_Training\",\n",
    "    num_executors=spark_config['num_executors'],\n",
    "    executor_cores=spark_config['executor_cores'],\n",
    "    executor_memory=spark_config['executor_memory'],\n",
    "    configs=spark_configs\n",
    ")"
   ]
  },
  {
   "cell_type": "code",
   "execution_count": 17,
   "metadata": {},
   "outputs": [
    {
     "name": "stdout",
     "output_type": "stream",
     "text": [
      "Spark log level set to ERROR (warnings suppressed)\n"
     ]
    }
   ],
   "source": [
    "def set_spark_log_level(spark_session):\n",
    "    try:\n",
    "        spark_context = spark_session.sparkContext\n",
    "        spark_context.setLogLevel(\"ERROR\")\n",
    "        print(\"Spark log level set to ERROR (warnings suppressed)\")\n",
    "    except Exception as e:\n",
    "        print(f\"Could not set Spark log level: {e}\")\n",
    "set_spark_log_level(spark)"
   ]
  },
  {
   "cell_type": "code",
   "execution_count": 18,
   "metadata": {},
   "outputs": [
    {
     "name": "stdout",
     "output_type": "stream",
     "text": [
      "Spark session initialized\n",
      "Application ID: spark-application-1751842884006\n",
      "Spark Version: 3.5.4\n"
     ]
    }
   ],
   "source": [
    "print(f\"Spark session initialized\")\n",
    "print(f\"Application ID: {spark.sparkContext.applicationId}\")\n",
    "print(f\"Spark Version: {spark.version}\")"
   ]
  },
  {
   "cell_type": "code",
   "execution_count": 19,
   "metadata": {},
   "outputs": [
    {
     "data": {
      "text/html": [
       "\n",
       "            <div>\n",
       "                <p><b>SparkSession - in-memory</b></p>\n",
       "                \n",
       "        <div>\n",
       "            <p><b>SparkContext</b></p>\n",
       "\n",
       "            <p><a href=\"http://10.244.10.75:4040\">Spark UI</a></p>\n",
       "\n",
       "            <dl>\n",
       "              <dt>Version</dt>\n",
       "                <dd><code>v3.5.4</code></dd>\n",
       "              <dt>Master</dt>\n",
       "                <dd><code>ray://RAY_APP_MASTER@10.244.10.75:38837</code></dd>\n",
       "              <dt>AppName</dt>\n",
       "                <dd><code>RayDP_MLLib_Distributed_Training</code></dd>\n",
       "            </dl>\n",
       "        </div>\n",
       "        \n",
       "            </div>\n",
       "        "
      ],
      "text/plain": [
       "<pyspark.sql.session.SparkSession at 0x7f294e441c30>"
      ]
     },
     "execution_count": 19,
     "metadata": {},
     "output_type": "execute_result"
    }
   ],
   "source": [
    "spark"
   ]
  },
  {
   "cell_type": "code",
   "execution_count": 22,
   "metadata": {},
   "outputs": [
    {
     "name": "stdout",
     "output_type": "stream",
     "text": [
      "Optimal partitions: 48.0\n"
     ]
    }
   ],
   "source": [
    "optimal_partitions = ray.cluster_resources().get('CPU', 24) * 2\n",
    "print(f\"Optimal partitions: {optimal_partitions}\")"
   ]
  },
  {
   "cell_type": "code",
   "execution_count": 23,
   "metadata": {},
   "outputs": [
    {
     "name": "stderr",
     "output_type": "stream",
     "text": [
      "2025-07-06 23:02:56,816\tINFO logging.py:290 -- Registered dataset logger for dataset dataset_12_1\n",
      "2025-07-06 23:02:56,821\tINFO streaming_executor.py:117 -- Starting execution of Dataset dataset_12_1. Full logs are in /raylogs/ray/session_2025-07-06_20-03-57_750929_35/logs/ray-data\n",
      "2025-07-06 23:02:56,821\tINFO streaming_executor.py:118 -- Execution plan of Dataset dataset_12_1: InputDataBuffer[Input] -> TaskPoolMapOperator[ReadResultSetDataSource]\n",
      "2025-07-06 23:03:00,837\tINFO streaming_executor.py:220 -- ✔️  Dataset dataset_12_1 execution finished in 4.02 seconds\n",
      "[Stage 0:======================================================>(261 + 1) / 262]"
     ]
    },
    {
     "name": "stdout",
     "output_type": "stream",
     "text": [
      "Created Spark DataFrame with 48 partitions\n"
     ]
    }
   ],
   "source": [
    "df = train_rayds.to_spark(spark).repartition(int(optimal_partitions))\n",
    "print(f\"Created Spark DataFrame with {df.rdd.getNumPartitions()} partitions\")"
   ]
  },
  {
   "cell_type": "markdown",
   "metadata": {},
   "source": [
    "## Train classification model"
   ]
  },
  {
   "cell_type": "code",
   "execution_count": 26,
   "metadata": {},
   "outputs": [],
   "source": [
    "def train_classification_model(df, spark_config):\n",
    "    feature_cols = [f\"FEATURE_{i}\" for i in range(20)]\n",
    "    assembler = VectorAssembler(inputCols=feature_cols, outputCol=\"RAW_FEATURES\")\n",
    "    scaler = StandardScaler(inputCol=\"RAW_FEATURES\", outputCol=\"FEATURES\", withStd=True, withMean=True)\n",
    "    rf = RandomForestClassifier(\n",
    "        labelCol=\"TARGET\",\n",
    "        featuresCol=\"FEATURES\",\n",
    "        numTrees=100,\n",
    "        maxDepth=10,\n",
    "        maxBins=32,\n",
    "        minInstancesPerNode=10,\n",
    "        seed=42\n",
    "    )\n",
    "    pipeline = Pipeline(stages=[assembler, scaler, rf])\n",
    "    train_data, test_data = df.randomSplit([0.8, 0.2], seed=42)\n",
    "    print(f\"Training set: {train_data.count():,} rows\")\n",
    "    print(f\"Evaluation set: {test_data.count():,} rows\")\n",
    "    print(\"Starting distributed training...\")\n",
    "    start_time = time.time()\n",
    "    model = pipeline.fit(train_data)\n",
    "    training_time = time.time() - start_time\n",
    "    print(f\"Training completed in {training_time:.2f} seconds\")\n",
    "    print(\"Evaluating model...\")\n",
    "    predictions = model.transform(test_data)\n",
    "    evaluator_auc = BinaryClassificationEvaluator(labelCol=\"TARGET\", metricName=\"areaUnderROC\")\n",
    "    evaluator_acc = MulticlassClassificationEvaluator(labelCol=\"TARGET\", predictionCol=\"prediction\", metricName=\"accuracy\")\n",
    "    auc = evaluator_auc.evaluate(predictions)\n",
    "    accuracy = evaluator_acc.evaluate(predictions)\n",
    "    print(f\"Model Performance:\")\n",
    "    print(f\"AUC: {auc:.4f}\")\n",
    "    print(f\"Accuracy: {accuracy:.4f}\")\n",
    "    print(f\"Training time: {training_time:.2f}s\")\n",
    "    return model, {'auc': auc, 'accuracy': accuracy, 'training_time': training_time}"
   ]
  },
  {
   "cell_type": "code",
   "execution_count": 27,
   "metadata": {},
   "outputs": [
    {
     "name": "stderr",
     "output_type": "stream",
     "text": [
      "                                                                                "
     ]
    },
    {
     "name": "stdout",
     "output_type": "stream",
     "text": [
      "Training set: 560,180 rows\n"
     ]
    },
    {
     "name": "stderr",
     "output_type": "stream",
     "text": [
      "                                                                                "
     ]
    },
    {
     "name": "stdout",
     "output_type": "stream",
     "text": [
      "Evaluation set: 140,177 rows\n",
      "Starting distributed training...\n"
     ]
    },
    {
     "name": "stderr",
     "output_type": "stream",
     "text": [
      "25/07/06 23:13:11 ERROR TaskSchedulerImpl: Lost executor 4 on 10.244.10.75: Remote RPC client disassociated. Likely due to containers exceeding thresholds, or network issues. Check driver logs for WARN messages.\n",
      "25/07/06 23:14:34 ERROR TaskSchedulerImpl: Lost executor 5 on 10.244.10.75: Remote RPC client disassociated. Likely due to containers exceeding thresholds, or network issues. Check driver logs for WARN messages.\n",
      "[Stage 130:====================================================>(260 + 2) / 262]"
     ]
    },
    {
     "name": "stdout",
     "output_type": "stream",
     "text": [
      "Training completed in 265.54 seconds\n",
      "Evaluating model...\n"
     ]
    },
    {
     "name": "stderr",
     "output_type": "stream",
     "text": [
      "25/07/06 23:17:11 ERROR TaskSchedulerImpl: Lost executor 6 on 10.244.10.75: Remote RPC client disassociated. Likely due to containers exceeding thresholds, or network issues. Check driver logs for WARN messages.\n",
      "[Stage 149:===================================================>   (45 + 3) / 48]"
     ]
    },
    {
     "name": "stdout",
     "output_type": "stream",
     "text": [
      "Model Performance:\n",
      "AUC: 0.9002\n",
      "Accuracy: 0.8136\n",
      "Training time: 265.54s\n"
     ]
    },
    {
     "name": "stderr",
     "output_type": "stream",
     "text": [
      "                                                                                "
     ]
    }
   ],
   "source": [
    "model_class, metrics_class = train_classification_model(df, spark_config)"
   ]
  },
  {
   "cell_type": "markdown",
   "metadata": {},
   "source": [
    "### Hyperparameter tuning"
   ]
  },
  {
   "cell_type": "code",
   "execution_count": null,
   "metadata": {},
   "outputs": [],
   "source": [
    "def hyperparameter_tuning(df):\n",
    "    feature_cols = [f\"feature_{i}\" for i in range(20)]\n",
    "    assembler = VectorAssembler(inputCols=feature_cols, outputCol=\"features\")\n",
    "    estimator = RandomForestClassifier(labelCol=\"target\", featuresCol=\"features\", seed=42)\n",
    "    evaluator = BinaryClassificationEvaluator(labelCol=\"target\", metricName=\"areaUnderROC\")\n",
    "    paramGrid = ParamGridBuilder() \\\n",
    "        .addGrid(estimator.numTrees, [50, 100]) \\\n",
    "        .addGrid(estimator.maxDepth, [5, 10]) \\\n",
    "        .addGrid(estimator.minInstancesPerNode, [5, 10]) \\\n",
    "        .build()\n",
    "    pipeline = Pipeline(stages=[assembler, estimator])\n",
    "    crossval = CrossValidator(\n",
    "        estimator=pipeline,\n",
    "        estimatorParamMaps=paramGrid,\n",
    "        evaluator=evaluator,\n",
    "        numFolds=3,\n",
    "        seed=42\n",
    "    )\n",
    "    train_data, _ = df.randomSplit([0.8, 0.2], seed=42)\n",
    "    print(f\"Starting hyperparameter tuning with {len(paramGrid)} parameter combinations...\")\n",
    "    start_time = time.time()\n",
    "    cv_model = crossval.fit(train_data)\n",
    "    tuning_time = time.time() - start_time\n",
    "    print(f\"Hyperparameter tuning completed in {tuning_time:.2f} seconds\")\n",
    "    # Get best model\n",
    "    best_model = cv_model.bestModel\n",
    "    print(f\"Best hyperparameters found:\")\n",
    "    rf_stage = best_model.stages[-1]\n",
    "    print(f\"numTrees: {rf_stage.getNumTrees()}\")\n",
    "    print(f\"maxDepth: {rf_stage.getMaxDepth()}\")\n",
    "    print(f\"minInstancesPerNode: {rf_stage.getMinInstancesPerNode()}\")\n",
    "    return cv_model, tuning_time"
   ]
  },
  {
   "cell_type": "code",
   "execution_count": null,
   "metadata": {},
   "outputs": [],
   "source": [
    "cv_model_class, tune_time_class = hyperparameter_tuning(df)"
   ]
  },
  {
   "cell_type": "code",
   "execution_count": null,
   "metadata": {},
   "outputs": [],
   "source": []
  }
 ],
 "metadata": {
  "kernelspec": {
   "display_name": "Python 3 (ipykernel)",
   "language": "python",
   "name": "python3"
  },
  "language_info": {
   "codemirror_mode": {
    "name": "ipython",
    "version": 3
   },
   "file_extension": ".py",
   "mimetype": "text/x-python",
   "name": "python",
   "nbconvert_exporter": "python",
   "pygments_lexer": "ipython3",
   "version": "3.10.17"
  }
 },
 "nbformat": 4,
 "nbformat_minor": 4
}
