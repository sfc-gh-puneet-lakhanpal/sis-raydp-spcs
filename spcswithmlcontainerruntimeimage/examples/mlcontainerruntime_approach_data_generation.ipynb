{
 "cells": [
  {
   "cell_type": "markdown",
   "metadata": {
    "vscode": {
     "languageId": "raw"
    }
   },
   "source": [
    "# Data Generation for Spark MLLib based Model Training on Snowpark Container Services"
   ]
  },
  {
   "cell_type": "markdown",
   "metadata": {
    "vscode": {
     "languageId": "raw"
    }
   },
   "source": [
    "## Setup and Imports"
   ]
  },
  {
   "cell_type": "code",
   "execution_count": 1,
   "metadata": {},
   "outputs": [
    {
     "name": "stderr",
     "output_type": "stream",
     "text": [
      "/opt/conda/lib/python3.10/site-packages/snowflake/snowpark/session.py:38: UserWarning: pkg_resources is deprecated as an API. See https://setuptools.pypa.io/en/latest/pkg_resources.html. The pkg_resources package is slated for removal as early as 2025-11-30. Refrain from using this package or pin to Setuptools<81.\n",
      "  import pkg_resources\n"
     ]
    },
    {
     "name": "stdout",
     "output_type": "stream",
     "text": [
      "Ray version: 2.46.0\n"
     ]
    }
   ],
   "source": [
    "import ray\n",
    "import pprint\n",
    "import warnings\n",
    "import logging    \n",
    "import time\n",
    "import os\n",
    "import numpy as np\n",
    "import socket\n",
    "import snowflake.connector\n",
    "from snowflake.snowpark import Session\n",
    "from snowflake.ml.ray.datasink import SnowflakeTableDatasink\n",
    "print(f\"Ray version: {ray.__version__}\")"
   ]
  },
  {
   "cell_type": "markdown",
   "metadata": {},
   "source": [
    "## Initialize Snowpark Session"
   ]
  },
  {
   "cell_type": "code",
   "execution_count": 2,
   "metadata": {},
   "outputs": [],
   "source": [
    "def connection() -> snowflake.connector.SnowflakeConnection:\n",
    "    if os.path.isfile(\"/snowflake/session/token\"):\n",
    "        creds = {\n",
    "            'host': os.getenv('SNOWFLAKE_HOST'),\n",
    "            'port': os.getenv('SNOWFLAKE_PORT'),\n",
    "            'protocol': \"https\",\n",
    "            'account': os.getenv('SNOWFLAKE_ACCOUNT'),\n",
    "            'authenticator': \"oauth\",\n",
    "            'token': open('/snowflake/session/token', 'r').read(),\n",
    "            'warehouse': \"LARGE_WH\",\n",
    "            'database': os.getenv('SNOWFLAKE_DATABASE'),\n",
    "            'schema': os.getenv('SNOWFLAKE_SCHEMA'),\n",
    "            'client_session_keep_alive': True\n",
    "        }\n",
    "    else:\n",
    "        creds = {\n",
    "            'account': os.getenv('SNOWFLAKE_ACCOUNT'),\n",
    "            'user': os.getenv('SNOWFLAKE_USER'),\n",
    "            'password': os.getenv('SNOWFLAKE_PASSWORD'),\n",
    "            'warehouse': snowflake_warehouse,\n",
    "            'database': os.getenv('SNOWFLAKE_DATABASE'),\n",
    "            'schema': os.getenv('SNOWFLAKE_SCHEMA'),\n",
    "            'client_session_keep_alive': True\n",
    "        }\n",
    "\n",
    "    connection = snowflake.connector.connect(**creds)\n",
    "    return connection\n",
    "\n",
    "def get_session() -> Session:\n",
    "    return Session.builder.configs({\"connection\": connection()}).create()"
   ]
  },
  {
   "cell_type": "code",
   "execution_count": 3,
   "metadata": {},
   "outputs": [],
   "source": [
    "session = get_session()"
   ]
  },
  {
   "cell_type": "code",
   "execution_count": 4,
   "metadata": {},
   "outputs": [
    {
     "data": {
      "text/plain": [
       "'\"RAYDP_SIS_DB\"'"
      ]
     },
     "execution_count": 4,
     "metadata": {},
     "output_type": "execute_result"
    }
   ],
   "source": [
    "session.get_current_database()"
   ]
  },
  {
   "cell_type": "code",
   "execution_count": 5,
   "metadata": {},
   "outputs": [
    {
     "name": "stderr",
     "output_type": "stream",
     "text": [
      "2025-07-08 05:46:14,922\tINFO worker.py:1694 -- Connecting to existing Ray cluster at address: 10.244.26.9:6379...\n",
      "2025-07-08 05:46:14,959\tINFO worker.py:1879 -- Connected to Ray cluster. View the dashboard at \u001b[1m\u001b[32m10.244.26.9:8265 \u001b[39m\u001b[22m\n",
      "[2025-07-08 05:46:14,961 I 4035 4035] logging.cc:297: Set ray log level from environment variable RAY_BACKEND_LOG_LEVEL to 1\n"
     ]
    }
   ],
   "source": [
    "cli = ray.init(address=\"auto\", ignore_reinit_error=True, log_to_driver=False)"
   ]
  },
  {
   "cell_type": "code",
   "execution_count": 6,
   "metadata": {},
   "outputs": [],
   "source": [
    "cluster_resources = ray.cluster_resources()\n",
    "nodes = ray.nodes()"
   ]
  },
  {
   "cell_type": "code",
   "execution_count": 7,
   "metadata": {},
   "outputs": [
    {
     "name": "stdout",
     "output_type": "stream",
     "text": [
      "  Cluster Information:\n",
      "   Node 1: {'node:10.244.26.201': 1.0, 'CPU': 28.0, 'memory': 246364046131.0, 'object_store_memory': 11220602060.0}\n",
      "   Node 2: {'CPU': 28.0, 'memory': 246363816755.0, 'node:10.244.26.137': 1.0, 'object_store_memory': 11220602060.0}\n",
      "   Node 3: {'CPU': 28.0, 'node:__internal_head__': 1.0, 'memory': 245447852851.0, 'object_store_memory': 11220602060.0, 'node:10.244.26.9': 1.0}\n",
      "   Node 4: {'CPU': 28.0, 'node:10.244.26.73': 1.0, 'memory': 246363992883.0, 'object_store_memory': 11220602060.0}\n",
      "\n"
     ]
    }
   ],
   "source": [
    "print(\"  Cluster Information:\")\n",
    "for i, node in enumerate(nodes):\n",
    "    node_resources = node.get('Resources', {})\n",
    "    print(f\"   Node {i+1}: {node_resources}\")\n",
    "print()"
   ]
  },
  {
   "cell_type": "markdown",
   "metadata": {},
   "source": [
    "### Create sample dataset"
   ]
  },
  {
   "cell_type": "code",
   "execution_count": 8,
   "metadata": {},
   "outputs": [],
   "source": [
    "@ray.remote\n",
    "def generate_data_chunk(chunk_id, chunk_size, num_features):\n",
    "    import numpy as np\n",
    "    np.random.seed(chunk_id)\n",
    "    data = []\n",
    "    for i in range(chunk_size):\n",
    "        features = np.random.normal(0, 1, num_features)\n",
    "        features[1] = features[0] * 0.5 + np.random.normal(0, 0.5)\n",
    "        features[2] = features[0] * 0.3 + features[1] * 0.2 + np.random.normal(0, 0.8)\n",
    "        signal = (features[0] * 0.5 + \n",
    "                 features[1] * 0.3 + \n",
    "                 features[2] * 0.2 + \n",
    "                 np.sum(features[3:6]) * 0.1)\n",
    "        target = 1 if signal + np.random.normal(0, 0.5) > 0 else 0\n",
    "        \n",
    "        # Create dictionary instead of list\n",
    "        row = {\"ID\": chunk_id * chunk_size + i}\n",
    "        for j, feature_val in enumerate(features):\n",
    "            row[f\"FEATURE_{j}\"] = float(feature_val)\n",
    "        row[\"TARGET\"] = int(target)\n",
    "        \n",
    "        data.append(row)\n",
    "    return data"
   ]
  },
  {
   "cell_type": "code",
   "execution_count": 9,
   "metadata": {},
   "outputs": [],
   "source": [
    "def create_large_dataset_and_dump_into_snowflake(num_rows=1_000_000, num_features=20):\n",
    "    \"\"\"\n",
    "    Create a large synthetic dataset using Ray for parallel data generation\n",
    "    \"\"\"\n",
    "    import pyarrow as pa\n",
    "    print(f\"Generating {num_rows:,} rows with {num_features} features for classification...\")\n",
    "    # Generate data in parallel using Ray\n",
    "    num_chunks = 50  # Distribute data generation\n",
    "    chunk_size = num_rows // num_chunks\n",
    "    print(f\"   Using {num_chunks} parallel data generation tasks...\")\n",
    "    # Generate data chunks in parallel\n",
    "    chunk_futures = [\n",
    "        generate_data_chunk.remote(i, chunk_size, num_features) \n",
    "        for i in range(num_chunks)\n",
    "    ]\n",
    "    chunks = ray.get(chunk_futures)\n",
    "    # Flatten data\n",
    "    all_data = []\n",
    "    for chunk in chunks:\n",
    "        all_data.extend(chunk)\n",
    "    print(f\"Generated {len(all_data):,} data points\")\n",
    "    # Define Arrow schema\n",
    "    fields = [pa.field(\"ID\", pa.int64())]\n",
    "    for i in range(num_features):\n",
    "        fields.append(pa.field(f\"FEATURE_{i}\", pa.float64()))\n",
    "    fields.append(pa.field(\"TARGET\", pa.int32()))\n",
    "    schema = pa.schema(fields)\n",
    "    \n",
    "    # Create Arrow Table with schema\n",
    "    print(\"🔧 Creating Arrow Table with schema...\")\n",
    "    table = pa.Table.from_pylist(all_data, schema=schema)\n",
    "    \n",
    "    # Create Ray Dataset from Arrow Table\n",
    "    print(\"🔧 Creating Ray Dataset...\")\n",
    "    ray_ds = ray.data.from_arrow(table)\n",
    "    \n",
    "    print(f\"✅ Created Ray Dataset with schema: {ray_ds.schema()}\")\n",
    "    return ray_ds"
   ]
  },
  {
   "cell_type": "code",
   "execution_count": 10,
   "metadata": {},
   "outputs": [
    {
     "name": "stdout",
     "output_type": "stream",
     "text": [
      "Generating 1,000,000 rows with 20 features for classification...\n",
      "   Using 50 parallel data generation tasks...\n",
      "Generated 1,000,000 data points\n",
      "🔧 Creating Arrow Table with schema...\n",
      "🔧 Creating Ray Dataset...\n",
      "✅ Created Ray Dataset with schema: Column      Type\n",
      "------      ----\n",
      "ID          int64\n",
      "FEATURE_0   double\n",
      "FEATURE_1   double\n",
      "FEATURE_2   double\n",
      "FEATURE_3   double\n",
      "FEATURE_4   double\n",
      "FEATURE_5   double\n",
      "FEATURE_6   double\n",
      "FEATURE_7   double\n",
      "FEATURE_8   double\n",
      "FEATURE_9   double\n",
      "FEATURE_10  double\n",
      "FEATURE_11  double\n",
      "FEATURE_12  double\n",
      "FEATURE_13  double\n",
      "FEATURE_14  double\n",
      "FEATURE_15  double\n",
      "FEATURE_16  double\n",
      "FEATURE_17  double\n",
      "FEATURE_18  double\n",
      "FEATURE_19  double\n",
      "TARGET      int32\n"
     ]
    }
   ],
   "source": [
    "ray_ds = create_large_dataset_and_dump_into_snowflake(1_000_000, 20)"
   ]
  },
  {
   "cell_type": "code",
   "execution_count": 11,
   "metadata": {},
   "outputs": [
    {
     "name": "stderr",
     "output_type": "stream",
     "text": [
      "2025-07-08 05:46:26,074\tINFO dataset.py:3027 -- Tip: Use `take_batch()` instead of `take() / show()` to return records in pandas or numpy batch format.\n",
      "2025-07-08 05:46:26,080\tINFO logging.py:290 -- Registered dataset logger for dataset dataset_1_0\n",
      "2025-07-08 05:46:26,090\tINFO streaming_executor.py:117 -- Starting execution of Dataset dataset_1_0. Full logs are in /raylogs/ray/session_2025-07-08_04-07-51_233039_23/logs/ray-data\n",
      "2025-07-08 05:46:26,090\tINFO streaming_executor.py:118 -- Execution plan of Dataset dataset_1_0: InputDataBuffer[Input] -> LimitOperator[limit=1]\n"
     ]
    },
    {
     "data": {
      "application/vnd.jupyter.widget-view+json": {
       "model_id": "60f281fcc49a42cb8a1dc5938e090ebc",
       "version_major": 2,
       "version_minor": 0
      },
      "text/plain": [
       "Running 0: 0.00 row [00:00, ? row/s]"
      ]
     },
     "metadata": {},
     "output_type": "display_data"
    },
    {
     "data": {
      "application/vnd.jupyter.widget-view+json": {
       "model_id": "2bc8f14f52434925bbbb44e95f887ed1",
       "version_major": 2,
       "version_minor": 0
      },
      "text/plain": [
       "- limit=1 1: 0.00 row [00:00, ? row/s]"
      ]
     },
     "metadata": {},
     "output_type": "display_data"
    },
    {
     "name": "stderr",
     "output_type": "stream",
     "text": [
      "2025-07-08 05:46:26,115\tINFO streaming_executor.py:220 -- ✔️  Dataset dataset_1_0 execution finished in 0.03 seconds\n"
     ]
    },
    {
     "name": "stdout",
     "output_type": "stream",
     "text": [
      "{'ID': 0, 'FEATURE_0': 1.764052345967664, 'FEATURE_1': -0.39446873493320733, 'FEATURE_2': 0.9732168331559461, 'FEATURE_3': 2.240893199201458, 'FEATURE_4': 1.8675579901499675, 'FEATURE_5': -0.977277879876411, 'FEATURE_6': 0.9500884175255894, 'FEATURE_7': -0.1513572082976979, 'FEATURE_8': -0.10321885179355784, 'FEATURE_9': 0.41059850193837233, 'FEATURE_10': 0.144043571160878, 'FEATURE_11': 1.454273506962975, 'FEATURE_12': 0.7610377251469934, 'FEATURE_13': 0.12167501649282841, 'FEATURE_14': 0.44386323274542566, 'FEATURE_15': 0.33367432737426683, 'FEATURE_16': 1.4940790731576061, 'FEATURE_17': -0.20515826376580087, 'FEATURE_18': 0.31306770165090136, 'FEATURE_19': -0.8540957393017248, 'TARGET': 1}\n"
     ]
    }
   ],
   "source": [
    "ray_ds.show(1)"
   ]
  },
  {
   "cell_type": "markdown",
   "metadata": {},
   "source": [
    "### Write sample dataset to Snowflake table"
   ]
  },
  {
   "cell_type": "code",
   "execution_count": 12,
   "metadata": {},
   "outputs": [
    {
     "data": {
      "text/plain": [
       "[Row(status='SPARK_MLLIB_SAMPLE_DATASET successfully dropped.')]"
      ]
     },
     "execution_count": 12,
     "metadata": {},
     "output_type": "execute_result"
    }
   ],
   "source": [
    "session.sql(\"drop table if exists SPARK_MLLIB_SAMPLE_DATASET\").collect()"
   ]
  },
  {
   "cell_type": "code",
   "execution_count": 13,
   "metadata": {},
   "outputs": [],
   "source": [
    "datasink = SnowflakeTableDatasink(\n",
    "    table_name=\"SPARK_MLLIB_SAMPLE_DATASET\",\n",
    "    database=session.get_current_database(),\n",
    "    schema=session.get_current_schema(),\n",
    "    auto_create_table=True\n",
    ")"
   ]
  },
  {
   "cell_type": "code",
   "execution_count": 14,
   "metadata": {},
   "outputs": [
    {
     "name": "stderr",
     "output_type": "stream",
     "text": [
      "2025-07-08 05:46:26,497\tINFO logging.py:290 -- Registered dataset logger for dataset dataset_3_0\n",
      "2025-07-08 05:46:26,498\tINFO streaming_executor.py:117 -- Starting execution of Dataset dataset_3_0. Full logs are in /raylogs/ray/session_2025-07-08_04-07-51_233039_23/logs/ray-data\n",
      "2025-07-08 05:46:26,499\tINFO streaming_executor.py:118 -- Execution plan of Dataset dataset_3_0: InputDataBuffer[Input] -> TaskPoolMapOperator[Write]\n"
     ]
    },
    {
     "data": {
      "application/vnd.jupyter.widget-view+json": {
       "model_id": "4ce02d2026d84f788ea3d8affe684d0b",
       "version_major": 2,
       "version_minor": 0
      },
      "text/plain": [
       "Running 0: 0.00 row [00:00, ? row/s]"
      ]
     },
     "metadata": {},
     "output_type": "display_data"
    },
    {
     "data": {
      "application/vnd.jupyter.widget-view+json": {
       "model_id": "876149d8b7ab4e5daf64e9d996fdb2af",
       "version_major": 2,
       "version_minor": 0
      },
      "text/plain": [
       "- Write 1: 0.00 row [00:00, ? row/s]"
      ]
     },
     "metadata": {},
     "output_type": "display_data"
    },
    {
     "name": "stderr",
     "output_type": "stream",
     "text": [
      "2025-07-08 05:46:58,742\tINFO streaming_executor.py:220 -- ✔️  Dataset dataset_3_0 execution finished in 32.24 seconds\n",
      "2025-07-08 05:46:58,780\tINFO dataset.py:4537 -- Data sink SnowflakeTable finished. 1000000 rows and 164.0MB data written.\n"
     ]
    }
   ],
   "source": [
    "ray_ds.write_datasink(datasink)"
   ]
  },
  {
   "cell_type": "code",
   "execution_count": 15,
   "metadata": {},
   "outputs": [
    {
     "data": {
      "text/html": [
       "<div>\n",
       "<style scoped>\n",
       "    .dataframe tbody tr th:only-of-type {\n",
       "        vertical-align: middle;\n",
       "    }\n",
       "\n",
       "    .dataframe tbody tr th {\n",
       "        vertical-align: top;\n",
       "    }\n",
       "\n",
       "    .dataframe thead th {\n",
       "        text-align: right;\n",
       "    }\n",
       "</style>\n",
       "<table border=\"1\" class=\"dataframe\">\n",
       "  <thead>\n",
       "    <tr style=\"text-align: right;\">\n",
       "      <th></th>\n",
       "      <th>ID</th>\n",
       "      <th>FEATURE_0</th>\n",
       "      <th>FEATURE_1</th>\n",
       "      <th>FEATURE_2</th>\n",
       "      <th>FEATURE_3</th>\n",
       "      <th>FEATURE_4</th>\n",
       "      <th>FEATURE_5</th>\n",
       "      <th>FEATURE_6</th>\n",
       "      <th>FEATURE_7</th>\n",
       "      <th>FEATURE_8</th>\n",
       "      <th>...</th>\n",
       "      <th>FEATURE_11</th>\n",
       "      <th>FEATURE_12</th>\n",
       "      <th>FEATURE_13</th>\n",
       "      <th>FEATURE_14</th>\n",
       "      <th>FEATURE_15</th>\n",
       "      <th>FEATURE_16</th>\n",
       "      <th>FEATURE_17</th>\n",
       "      <th>FEATURE_18</th>\n",
       "      <th>FEATURE_19</th>\n",
       "      <th>TARGET</th>\n",
       "    </tr>\n",
       "  </thead>\n",
       "  <tbody>\n",
       "    <tr>\n",
       "      <th>0</th>\n",
       "      <td>0</td>\n",
       "      <td>1.764052</td>\n",
       "      <td>-0.394469</td>\n",
       "      <td>0.973217</td>\n",
       "      <td>2.240893</td>\n",
       "      <td>1.867558</td>\n",
       "      <td>-0.977278</td>\n",
       "      <td>0.950088</td>\n",
       "      <td>-0.151357</td>\n",
       "      <td>-0.103219</td>\n",
       "      <td>...</td>\n",
       "      <td>1.454274</td>\n",
       "      <td>0.761038</td>\n",
       "      <td>0.121675</td>\n",
       "      <td>0.443863</td>\n",
       "      <td>0.333674</td>\n",
       "      <td>1.494079</td>\n",
       "      <td>-0.205158</td>\n",
       "      <td>0.313068</td>\n",
       "      <td>-0.854096</td>\n",
       "      <td>1</td>\n",
       "    </tr>\n",
       "    <tr>\n",
       "      <th>1</th>\n",
       "      <td>1</td>\n",
       "      <td>-0.742165</td>\n",
       "      <td>0.604305</td>\n",
       "      <td>-0.509510</td>\n",
       "      <td>0.045759</td>\n",
       "      <td>-0.187184</td>\n",
       "      <td>1.532779</td>\n",
       "      <td>1.469359</td>\n",
       "      <td>0.154947</td>\n",
       "      <td>0.378163</td>\n",
       "      <td>...</td>\n",
       "      <td>-0.347912</td>\n",
       "      <td>0.156349</td>\n",
       "      <td>1.230291</td>\n",
       "      <td>1.202380</td>\n",
       "      <td>-0.387327</td>\n",
       "      <td>-0.302303</td>\n",
       "      <td>-1.048553</td>\n",
       "      <td>-1.420018</td>\n",
       "      <td>-1.706270</td>\n",
       "      <td>0</td>\n",
       "    </tr>\n",
       "    <tr>\n",
       "      <th>2</th>\n",
       "      <td>2</td>\n",
       "      <td>-1.252795</td>\n",
       "      <td>-1.441497</td>\n",
       "      <td>-0.293912</td>\n",
       "      <td>-0.212740</td>\n",
       "      <td>-0.895467</td>\n",
       "      <td>0.386902</td>\n",
       "      <td>-0.510805</td>\n",
       "      <td>-1.180632</td>\n",
       "      <td>-0.028182</td>\n",
       "      <td>...</td>\n",
       "      <td>0.302472</td>\n",
       "      <td>-0.634322</td>\n",
       "      <td>-0.362741</td>\n",
       "      <td>-0.672460</td>\n",
       "      <td>-0.359553</td>\n",
       "      <td>-0.813146</td>\n",
       "      <td>-1.726283</td>\n",
       "      <td>0.177426</td>\n",
       "      <td>-0.401781</td>\n",
       "      <td>0</td>\n",
       "    </tr>\n",
       "    <tr>\n",
       "      <th>3</th>\n",
       "      <td>3</td>\n",
       "      <td>0.051945</td>\n",
       "      <td>0.553199</td>\n",
       "      <td>-0.196318</td>\n",
       "      <td>1.139401</td>\n",
       "      <td>-1.234826</td>\n",
       "      <td>0.402342</td>\n",
       "      <td>-0.684810</td>\n",
       "      <td>-0.870797</td>\n",
       "      <td>-0.578850</td>\n",
       "      <td>...</td>\n",
       "      <td>-1.165150</td>\n",
       "      <td>0.900826</td>\n",
       "      <td>0.465662</td>\n",
       "      <td>-1.536244</td>\n",
       "      <td>1.488252</td>\n",
       "      <td>1.895889</td>\n",
       "      <td>1.178780</td>\n",
       "      <td>-0.179925</td>\n",
       "      <td>-1.070753</td>\n",
       "      <td>1</td>\n",
       "    </tr>\n",
       "    <tr>\n",
       "      <th>4</th>\n",
       "      <td>4</td>\n",
       "      <td>0.208275</td>\n",
       "      <td>-0.326475</td>\n",
       "      <td>1.525239</td>\n",
       "      <td>0.706573</td>\n",
       "      <td>0.010500</td>\n",
       "      <td>1.785870</td>\n",
       "      <td>0.126912</td>\n",
       "      <td>0.401989</td>\n",
       "      <td>1.883151</td>\n",
       "      <td>...</td>\n",
       "      <td>0.969397</td>\n",
       "      <td>-1.173123</td>\n",
       "      <td>1.943621</td>\n",
       "      <td>-0.413619</td>\n",
       "      <td>-0.747455</td>\n",
       "      <td>1.922942</td>\n",
       "      <td>1.480515</td>\n",
       "      <td>1.867559</td>\n",
       "      <td>0.906045</td>\n",
       "      <td>1</td>\n",
       "    </tr>\n",
       "    <tr>\n",
       "      <th>5</th>\n",
       "      <td>5</td>\n",
       "      <td>0.802456</td>\n",
       "      <td>0.739445</td>\n",
       "      <td>0.849899</td>\n",
       "      <td>0.614079</td>\n",
       "      <td>0.922207</td>\n",
       "      <td>0.376426</td>\n",
       "      <td>-1.099401</td>\n",
       "      <td>0.298238</td>\n",
       "      <td>1.326386</td>\n",
       "      <td>...</td>\n",
       "      <td>-0.435154</td>\n",
       "      <td>1.849264</td>\n",
       "      <td>0.672295</td>\n",
       "      <td>0.407462</td>\n",
       "      <td>-0.769916</td>\n",
       "      <td>0.539249</td>\n",
       "      <td>-0.674333</td>\n",
       "      <td>0.031831</td>\n",
       "      <td>-0.635846</td>\n",
       "      <td>1</td>\n",
       "    </tr>\n",
       "    <tr>\n",
       "      <th>6</th>\n",
       "      <td>6</td>\n",
       "      <td>0.396007</td>\n",
       "      <td>-0.375731</td>\n",
       "      <td>-0.306600</td>\n",
       "      <td>0.439392</td>\n",
       "      <td>0.166673</td>\n",
       "      <td>0.635031</td>\n",
       "      <td>2.383145</td>\n",
       "      <td>0.944479</td>\n",
       "      <td>-0.912822</td>\n",
       "      <td>...</td>\n",
       "      <td>-0.461585</td>\n",
       "      <td>-0.068242</td>\n",
       "      <td>1.713343</td>\n",
       "      <td>-0.744755</td>\n",
       "      <td>-0.826439</td>\n",
       "      <td>-0.098453</td>\n",
       "      <td>-0.663478</td>\n",
       "      <td>1.126636</td>\n",
       "      <td>-1.079932</td>\n",
       "      <td>0</td>\n",
       "    </tr>\n",
       "    <tr>\n",
       "      <th>7</th>\n",
       "      <td>7</td>\n",
       "      <td>1.929532</td>\n",
       "      <td>0.277290</td>\n",
       "      <td>0.119423</td>\n",
       "      <td>-1.225436</td>\n",
       "      <td>0.844363</td>\n",
       "      <td>-1.000215</td>\n",
       "      <td>-1.544771</td>\n",
       "      <td>1.188030</td>\n",
       "      <td>0.316943</td>\n",
       "      <td>...</td>\n",
       "      <td>0.856831</td>\n",
       "      <td>-0.651026</td>\n",
       "      <td>-1.034243</td>\n",
       "      <td>0.681595</td>\n",
       "      <td>-0.803410</td>\n",
       "      <td>-0.689550</td>\n",
       "      <td>-0.455533</td>\n",
       "      <td>0.017479</td>\n",
       "      <td>-0.353994</td>\n",
       "      <td>0</td>\n",
       "    </tr>\n",
       "    <tr>\n",
       "      <th>8</th>\n",
       "      <td>8</td>\n",
       "      <td>0.625231</td>\n",
       "      <td>0.632681</td>\n",
       "      <td>-0.979459</td>\n",
       "      <td>0.052165</td>\n",
       "      <td>-0.739563</td>\n",
       "      <td>1.543015</td>\n",
       "      <td>-1.292857</td>\n",
       "      <td>0.267051</td>\n",
       "      <td>-0.039283</td>\n",
       "      <td>...</td>\n",
       "      <td>-0.171546</td>\n",
       "      <td>0.771791</td>\n",
       "      <td>0.823504</td>\n",
       "      <td>2.163236</td>\n",
       "      <td>1.336528</td>\n",
       "      <td>-0.369182</td>\n",
       "      <td>-0.239379</td>\n",
       "      <td>1.099660</td>\n",
       "      <td>0.655264</td>\n",
       "      <td>1</td>\n",
       "    </tr>\n",
       "    <tr>\n",
       "      <th>9</th>\n",
       "      <td>9</td>\n",
       "      <td>-0.738031</td>\n",
       "      <td>-0.252925</td>\n",
       "      <td>-0.749847</td>\n",
       "      <td>0.910179</td>\n",
       "      <td>0.317218</td>\n",
       "      <td>0.786328</td>\n",
       "      <td>-0.466419</td>\n",
       "      <td>-0.944446</td>\n",
       "      <td>-0.410050</td>\n",
       "      <td>...</td>\n",
       "      <td>2.259309</td>\n",
       "      <td>-0.042257</td>\n",
       "      <td>-0.955945</td>\n",
       "      <td>-0.345982</td>\n",
       "      <td>-0.463596</td>\n",
       "      <td>0.481481</td>\n",
       "      <td>-1.540797</td>\n",
       "      <td>0.063262</td>\n",
       "      <td>0.156507</td>\n",
       "      <td>0</td>\n",
       "    </tr>\n",
       "  </tbody>\n",
       "</table>\n",
       "<p>10 rows × 22 columns</p>\n",
       "</div>"
      ],
      "text/plain": [
       "   ID  FEATURE_0  FEATURE_1  FEATURE_2  FEATURE_3  FEATURE_4  FEATURE_5  \\\n",
       "0   0   1.764052  -0.394469   0.973217   2.240893   1.867558  -0.977278   \n",
       "1   1  -0.742165   0.604305  -0.509510   0.045759  -0.187184   1.532779   \n",
       "2   2  -1.252795  -1.441497  -0.293912  -0.212740  -0.895467   0.386902   \n",
       "3   3   0.051945   0.553199  -0.196318   1.139401  -1.234826   0.402342   \n",
       "4   4   0.208275  -0.326475   1.525239   0.706573   0.010500   1.785870   \n",
       "5   5   0.802456   0.739445   0.849899   0.614079   0.922207   0.376426   \n",
       "6   6   0.396007  -0.375731  -0.306600   0.439392   0.166673   0.635031   \n",
       "7   7   1.929532   0.277290   0.119423  -1.225436   0.844363  -1.000215   \n",
       "8   8   0.625231   0.632681  -0.979459   0.052165  -0.739563   1.543015   \n",
       "9   9  -0.738031  -0.252925  -0.749847   0.910179   0.317218   0.786328   \n",
       "\n",
       "   FEATURE_6  FEATURE_7  FEATURE_8  ...  FEATURE_11  FEATURE_12  FEATURE_13  \\\n",
       "0   0.950088  -0.151357  -0.103219  ...    1.454274    0.761038    0.121675   \n",
       "1   1.469359   0.154947   0.378163  ...   -0.347912    0.156349    1.230291   \n",
       "2  -0.510805  -1.180632  -0.028182  ...    0.302472   -0.634322   -0.362741   \n",
       "3  -0.684810  -0.870797  -0.578850  ...   -1.165150    0.900826    0.465662   \n",
       "4   0.126912   0.401989   1.883151  ...    0.969397   -1.173123    1.943621   \n",
       "5  -1.099401   0.298238   1.326386  ...   -0.435154    1.849264    0.672295   \n",
       "6   2.383145   0.944479  -0.912822  ...   -0.461585   -0.068242    1.713343   \n",
       "7  -1.544771   1.188030   0.316943  ...    0.856831   -0.651026   -1.034243   \n",
       "8  -1.292857   0.267051  -0.039283  ...   -0.171546    0.771791    0.823504   \n",
       "9  -0.466419  -0.944446  -0.410050  ...    2.259309   -0.042257   -0.955945   \n",
       "\n",
       "   FEATURE_14  FEATURE_15  FEATURE_16  FEATURE_17  FEATURE_18  FEATURE_19  \\\n",
       "0    0.443863    0.333674    1.494079   -0.205158    0.313068   -0.854096   \n",
       "1    1.202380   -0.387327   -0.302303   -1.048553   -1.420018   -1.706270   \n",
       "2   -0.672460   -0.359553   -0.813146   -1.726283    0.177426   -0.401781   \n",
       "3   -1.536244    1.488252    1.895889    1.178780   -0.179925   -1.070753   \n",
       "4   -0.413619   -0.747455    1.922942    1.480515    1.867559    0.906045   \n",
       "5    0.407462   -0.769916    0.539249   -0.674333    0.031831   -0.635846   \n",
       "6   -0.744755   -0.826439   -0.098453   -0.663478    1.126636   -1.079932   \n",
       "7    0.681595   -0.803410   -0.689550   -0.455533    0.017479   -0.353994   \n",
       "8    2.163236    1.336528   -0.369182   -0.239379    1.099660    0.655264   \n",
       "9   -0.345982   -0.463596    0.481481   -1.540797    0.063262    0.156507   \n",
       "\n",
       "   TARGET  \n",
       "0       1  \n",
       "1       0  \n",
       "2       0  \n",
       "3       1  \n",
       "4       1  \n",
       "5       1  \n",
       "6       0  \n",
       "7       0  \n",
       "8       1  \n",
       "9       0  \n",
       "\n",
       "[10 rows x 22 columns]"
      ]
     },
     "execution_count": 15,
     "metadata": {},
     "output_type": "execute_result"
    }
   ],
   "source": [
    "session.table(\"SPARK_MLLIB_SAMPLE_DATASET\").limit(10).to_pandas()"
   ]
  },
  {
   "cell_type": "markdown",
   "metadata": {},
   "source": [
    "### Clean up"
   ]
  },
  {
   "cell_type": "code",
   "execution_count": 16,
   "metadata": {},
   "outputs": [
    {
     "data": {
      "text/plain": [
       "[None, None, None, None]"
      ]
     },
     "execution_count": 16,
     "metadata": {},
     "output_type": "execute_result"
    }
   ],
   "source": [
    "@ray.remote\n",
    "def trigger_gc():\n",
    "    import gc\n",
    "    gc.collect()\n",
    "\n",
    "ray.get([trigger_gc.remote() for _ in range(len(ray.nodes()))])"
   ]
  },
  {
   "cell_type": "code",
   "execution_count": 17,
   "metadata": {},
   "outputs": [],
   "source": [
    "session.close()"
   ]
  },
  {
   "cell_type": "code",
   "execution_count": 18,
   "metadata": {},
   "outputs": [],
   "source": [
    "cli.disconnect()"
   ]
  },
  {
   "cell_type": "code",
   "execution_count": null,
   "metadata": {},
   "outputs": [],
   "source": []
  },
  {
   "cell_type": "code",
   "execution_count": null,
   "metadata": {},
   "outputs": [],
   "source": []
  }
 ],
 "metadata": {
  "kernelspec": {
   "display_name": "Python 3 (ipykernel)",
   "language": "python",
   "name": "python3"
  },
  "language_info": {
   "codemirror_mode": {
    "name": "ipython",
    "version": 3
   },
   "file_extension": ".py",
   "mimetype": "text/x-python",
   "name": "python",
   "nbconvert_exporter": "python",
   "pygments_lexer": "ipython3",
   "version": "3.10.17"
  }
 },
 "nbformat": 4,
 "nbformat_minor": 4
}
